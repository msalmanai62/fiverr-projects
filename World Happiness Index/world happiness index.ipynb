{
 "cells": [
  {
   "cell_type": "markdown",
   "metadata": {},
   "source": [
    "# Reading Data"
   ]
  },
  {
   "cell_type": "code",
   "execution_count": 1,
   "metadata": {},
   "outputs": [],
   "source": [
    "import os\n",
    "import sys\n",
    "\n",
    "file_path = 'world_happiness_index_2013_2023.csv'\n",
    "\n",
    "if not os.path.isfile(file_path):  # check if the file is available or not\n",
    "    print(\"File not found.\")\n",
    "    sys.exit()\n",
    "data = [] # we will store our data in list \n",
    "with open(file_path, 'r') as file:   # open file in read mode\n",
    "    for line in file: # iterate through each line\n",
    "        row = line.strip().split(',')  # split the line at comma\n",
    "        data.append(row) # append each row in the data list\n",
    "# in above code we opened file in read mode and store it as lists within list. Each list represent a row"
   ]
  },
  {
   "cell_type": "code",
   "execution_count": 2,
   "metadata": {},
   "outputs": [
    {
     "data": {
      "text/plain": [
       "1671"
      ]
     },
     "execution_count": 2,
     "metadata": {},
     "output_type": "execute_result"
    }
   ],
   "source": [
    "len(data)  # our data has 1671 records/rows"
   ]
  },
  {
   "cell_type": "code",
   "execution_count": 3,
   "metadata": {},
   "outputs": [
    {
     "data": {
      "text/plain": [
       "[['Country', 'Year', 'Index', 'Rank'],\n",
       " ['Afghanistan', '2013', '4.04', '143.0'],\n",
       " ['Singapore', '2013', '6.546', '30.0'],\n",
       " ['Comoros', '2013', '3.851', '149.0'],\n",
       " ['Sierra Leone', '2013', '4.318', '127.0'],\n",
       " ['Congo', '2013', '', ''],\n",
       " ['Serbia', '2013', '4.813', '106.0'],\n",
       " ['Congo Brazzaville', '2013', '4.297', '129.0'],\n",
       " ['Senegal', '2013', '3.959', '147.0'],\n",
       " ['Congo Kinshasa', '2013', '4.578', '117.0']]"
      ]
     },
     "execution_count": 3,
     "metadata": {},
     "output_type": "execute_result"
    }
   ],
   "source": [
    "data[:10]  # print first 10 reocrds"
   ]
  },
  {
   "cell_type": "markdown",
   "metadata": {},
   "source": [
    "# Task 1\n",
    "- **Top 10 Happiest Countries**"
   ]
  },
  {
   "cell_type": "code",
   "execution_count": null,
   "metadata": {},
   "outputs": [],
   "source": []
  },
  {
   "cell_type": "code",
   "execution_count": 4,
   "metadata": {},
   "outputs": [],
   "source": [
    "# Function to separate country data by a specific year\n",
    "def separate_countries_by_year(data, year):\n",
    "    year_i = []\n",
    "    country_i = []\n",
    "    index_i = []\n",
    "    rank_i = []\n",
    "    for row in data:\n",
    "        cntry, yr, ind, rnk = row\n",
    "        \n",
    "        # Check if the row matches the specified year and index is not empty\n",
    "        if yr == year and ind != '':\n",
    "            country_i.append(cntry)\n",
    "            year_i.append(yr)\n",
    "            index_i.append(float(ind))\n",
    "            rank_i.append(rnk)\n",
    "    \n",
    "    return country_i, year_i, index_i, rank_i\n",
    "\n",
    "# Function to perform selection sort based on index values\n",
    "def selection_sort(index_i, country_i):\n",
    "    # Create a list of tuples pairing elements from lists index_i and country_i\n",
    "    paired_lists = list(zip(index_i, country_i))\n",
    "\n",
    "    # Perform a selection sort on list index_i and synchronize the sorting on list country_i in descending order\n",
    "    for i in range(len(index_i)):\n",
    "        max_index = i\n",
    "        for j in range(i + 1, len(index_i)):\n",
    "            if paired_lists[j][0] > paired_lists[max_index][0]:\n",
    "                max_index = j\n",
    "        \n",
    "        # Swap elements in the paired list\n",
    "        paired_lists[i], paired_lists[max_index] = paired_lists[max_index], paired_lists[i]\n",
    "\n",
    "    # Extract the sorted elements from list country_i\n",
    "    sorted_countries = [pair[1] for pair in paired_lists]\n",
    "    return list(zip(sorted_countries, sorted(index_i, reverse=True)))\n",
    "\n",
    "# Function to get top countries by year\n",
    "def get_top_countries_by_year(data, specific_year=None, top_count=5, top_from_bottom=False, print_all=True):\n",
    "    year_list = ['2013','2015','2016','2017','2018','2019','2020','2021','2022','2023']\n",
    "    \n",
    "    # Process for a specific year if provided and it exists in the year list\n",
    "    if specific_year:\n",
    "        if specific_year in year_list:\n",
    "            country_i, year_i, index_i, rank_i = separate_countries_by_year(data, specific_year)\n",
    "            top_countries = selection_sort(index_i, country_i)\n",
    "            if top_from_bottom:\n",
    "                print(f\"Top {top_count} least happiest countries in year {specific_year}\\n\", top_countries[-top_count:], '\\n\\n')\n",
    "            else:\n",
    "                print(f\"Top {top_count} most happiest countries in year {specific_year}\\n\", top_countries[:top_count], '\\n\\n')\n",
    "        else:\n",
    "            print(\"Please select year that is in this list {year_list}\")\n",
    "    \n",
    "    # Process for all years if print_all is True and no specific year is provided\n",
    "    if print_all and not specific_year:\n",
    "        for year in year_list: # to print data for each year\n",
    "            country_i, year_i, index_i, rank_i = separate_countries_by_year(data, year)\n",
    "            top_countries = selection_sort(index_i, country_i)\n",
    "            if top_from_bottom:\n",
    "                print(f\"Top {top_count} least happiest countries in year {year}\\n\", top_countries[-top_count:], '\\n\\n')\n",
    "            else:\n",
    "                print(f\"Top {top_count} most happiest countries in year {year}\\n\", top_countries[:top_count], '\\n\\n')\n"
   ]
  },
  {
   "cell_type": "code",
   "execution_count": 5,
   "metadata": {},
   "outputs": [
    {
     "name": "stdout",
     "output_type": "stream",
     "text": [
      "Top 5 most happiest countries in year 2019\n",
      " [('Finland', 7.769), ('Denmark', 7.6), ('Norway', 7.554), ('Iceland', 7.554), ('Netherlands', 7.488)] \n",
      "\n",
      "\n"
     ]
    }
   ],
   "source": [
    "\n",
    "# separate the header row and data rows\n",
    "header = data[0]\n",
    "data_ = data[1:]\n",
    "# set top_from_bottom=True if you want to print least happiest countries (by default it is false)\n",
    "# set top_count as your requirement (by default top 5 countries)\n",
    "# set specific_year as your requirement \n",
    "# print_all is by default True. But if you specify specific_year then it will be ignored whether you set print_all=False or not\n",
    "top_countries_data = get_top_countries_by_year(data_, specific_year='2019', top_from_bottom=False, top_count=5, print_all=False)\n",
    "top_countries_data"
   ]
  },
  {
   "cell_type": "code",
   "execution_count": 17,
   "metadata": {},
   "outputs": [
    {
     "name": "stdout",
     "output_type": "stream",
     "text": [
      "Top 3 least happiest countries in year 2013\n",
      " [('Central African Republic', 3.623), ('Benin', 3.528), ('Togo', 2.936)] \n",
      "\n",
      "\n",
      "Top 3 least happiest countries in year 2015\n",
      " [('Syria', 3.006), ('Burundi', 2.905), ('Togo', 2.839)] \n",
      "\n",
      "\n",
      "Top 3 least happiest countries in year 2016\n",
      " [('Togo', 3.303), ('Syria', 3.069), ('Burundi', 2.905)] \n",
      "\n",
      "\n",
      "Top 3 least happiest countries in year 2017\n",
      " [('Tanzania', 3.349), ('Burundi', 2.905), ('Central African Republic', 2.693)] \n",
      "\n",
      "\n",
      "Top 3 least happiest countries in year 2018\n",
      " [('South Sudan', 3.254), ('Central African Republic', 3.083), ('Burundi', 2.905)] \n",
      "\n",
      "\n",
      "Top 3 least happiest countries in year 2019\n",
      " [('Afghanistan', 3.203), ('Central African Republic', 3.083), ('South Sudan', 2.853)] \n",
      "\n",
      "\n",
      "Top 3 least happiest countries in year 2020\n",
      " [('Zimbabwe', 3.299), ('South Sudan', 2.817), ('Afghanistan', 2.567)] \n",
      "\n",
      "\n",
      "Top 3 least happiest countries in year 2021\n",
      " [('Rwanda', 3.415), ('Zimbabwe', 3.145), ('Afghanistan', 2.523)] \n",
      "\n",
      "\n",
      "Top 3 least happiest countries in year 2022\n",
      " [('Zimbabwe', 2.995), ('Lebanon', 2.955), ('Afghanistan', 2.404)] \n",
      "\n",
      "\n",
      "Top 3 least happiest countries in year 2023\n",
      " [('Sierra Leone', 3.138), ('Lebanon', 2.392), ('Afghanistan', 1.859)] \n",
      "\n",
      "\n"
     ]
    }
   ],
   "source": [
    "top_countries_data = get_top_countries_by_year(data_, top_from_bottom=True, top_count=3)\n",
    "top_countries_data"
   ]
  },
  {
   "cell_type": "markdown",
   "metadata": {},
   "source": [
    "# Task 2\n",
    "- **The top 3 countries that have gotten 1st in the happiness index for all the data provided the most number of times**\n",
    "- **The 3 unhappiest countries based on happiness index the most number of times.**"
   ]
  },
  {
   "cell_type": "code",
   "execution_count": 40,
   "metadata": {},
   "outputs": [],
   "source": [
    "# Function to find top countries with the most first positions in the index across 10 years\n",
    "def top_3_Countries_with_most_first_positions(data, top_count=5, top_from_bottom=False):\n",
    "    year_list = ['2013','2015','2016','2017','2018','2019','2020','2021','2022','2023']\n",
    "    result = []\n",
    "\n",
    "    # Iterate through each year in the year_list\n",
    "    for year in year_list:\n",
    "        # Retrieve country, year, index, and rank data for each year\n",
    "        country_i, year_i, index_i, rank_i = separate_countries_by_year(data, year)\n",
    "        \n",
    "        # Perform selection sort based on the index for the current year\n",
    "        top_countries = selection_sort(index_i, country_i)\n",
    "        \n",
    "        # Append top countries to result based on top_from_bottom condition\n",
    "        if top_from_bottom:\n",
    "            result.append((year, top_countries[-1:]))\n",
    "        else:\n",
    "            result.append((year, top_countries[0:1]))\n",
    "\n",
    "\n",
    "    top_in_10_years = []\n",
    "\n",
    "    # Extract the top country in each year's top list and create a list of top countries over 10 years\n",
    "    inde=0\n",
    "    if top_from_bottom:\n",
    "        inde = -1\n",
    "    for first in result:\n",
    "        top_in_10_years.append(first[1][inde][0])\n",
    "\n",
    "    count_dict = {}\n",
    "    # Count occurrences of each item in the list\n",
    "    for item in top_in_10_years:\n",
    "        if item in count_dict:\n",
    "            count_dict[item] += 1\n",
    "        else:\n",
    "            count_dict[item] = 1\n",
    "\n",
    "    # Create a list of tuples with unique items and their counts\n",
    "    result_list = [(value, key) for key, value in count_dict.items()]\n",
    "    print(result)\n",
    "    print(\"top 3 Countries with most first positions\")\n",
    "    return sorted(result_list, reverse=True)[:3]\n"
   ]
  },
  {
   "cell_type": "code",
   "execution_count": 41,
   "metadata": {},
   "outputs": [
    {
     "name": "stdout",
     "output_type": "stream",
     "text": [
      "[('2013', [('Togo', 2.936)]), ('2015', [('Togo', 2.839)]), ('2016', [('Burundi', 2.905)]), ('2017', [('Central African Republic', 2.693)]), ('2018', [('Burundi', 2.905)]), ('2019', [('South Sudan', 2.853)]), ('2020', [('Afghanistan', 2.567)]), ('2021', [('Afghanistan', 2.523)]), ('2022', [('Afghanistan', 2.404)]), ('2023', [('Afghanistan', 1.859)])]\n",
      "top 3 Countries with most first positions\n"
     ]
    },
    {
     "data": {
      "text/plain": [
       "[(4, 'Afghanistan'), (2, 'Togo'), (2, 'Burundi')]"
      ]
     },
     "execution_count": 41,
     "metadata": {},
     "output_type": "execute_result"
    }
   ],
   "source": [
    "# select top_from_bottom=True if you want to print most unhappiest countries\n",
    "\n",
    "top_countries_data = top_3_Countries_with_most_first_positions(data_, top_from_bottom=True)\n",
    "top_countries_data"
   ]
  },
  {
   "cell_type": "code",
   "execution_count": null,
   "metadata": {},
   "outputs": [],
   "source": []
  },
  {
   "cell_type": "markdown",
   "metadata": {},
   "source": [
    "# Task 3\n",
    "- **Specific country with increasing its rank or decreasing its rank over specific period**"
   ]
  },
  {
   "cell_type": "code",
   "execution_count": 37,
   "metadata": {},
   "outputs": [
    {
     "name": "stdout",
     "output_type": "stream",
     "text": [
      "The rank of India has been decreasing over the period from 2021 to 2023: 139->126\n"
     ]
    }
   ],
   "source": [
    "def find_country_rank(data, country, start_year, end_year):\n",
    "    ranks_over_period = []\n",
    "    \n",
    "    # Convert start_year and end_year to integers\n",
    "    start_year = int(start_year)\n",
    "    end_year = int(end_year)\n",
    "    \n",
    "    # Iterate through the data for the specified country within the period\n",
    "    for row in data:\n",
    "        cntry, year, _, rank = row\n",
    "        \n",
    "        # Check if the row matches the specified country and falls within the specified period\n",
    "        if cntry == country and start_year <= int(year) <= end_year and rank != '':\n",
    "            ranks_over_period.append(int(float(rank)))\n",
    "    \n",
    "    if len(ranks_over_period) < 2:\n",
    "        print(f\"Not enough data available to analyze rank changes for {country} between {start_year} and {end_year}.\")\n",
    "    else:\n",
    "        change = \"decreasing\" if ranks_over_period[-1] < ranks_over_period[0] else \"increasing\"\n",
    "        print(f\"The rank of {country} has been {change} over the period from {start_year} to {end_year}: {ranks_over_period[0]}->{ranks_over_period[-1]}\")\n",
    "\n",
    "# Example usage:\n",
    "find_country_rank(data_, \"India\", 2021, 2023)  # Change country name and period as needed\n"
   ]
  },
  {
   "cell_type": "code",
   "execution_count": 29,
   "metadata": {},
   "outputs": [
    {
     "name": "stdout",
     "output_type": "stream",
     "text": [
      "[['Finland', '2013', '7.389', '7.0'], ['Finland', '2015', '7.406', '6.0'], ['Finland', '2016', '7.413', '5.0'], ['Finland', '2017', '7.469', '5.0'], ['Finland', '2018', '7.632', '1.0'], ['Finland', '2019', '7.769', '1.0'], ['Finland', '2020', '7.809', '1.0'], ['Finland', '2021', '7.842', '1.0'], ['Finland', '2022', '7.821', '1.0'], ['Finland', '2023', '7.804', '1.0']]\n",
      "Finland rank decreasing over period of 3 years\n"
     ]
    }
   ],
   "source": [
    "# # Function to find whether a country's rank has increased or decreased over a specific period\n",
    "# def find_country_rank(data, country, period):\n",
    "#     one_country = []\n",
    "\n",
    "#     # Iterate through the data to collect rows pertaining to the specified country\n",
    "#     for i, row in enumerate(data):\n",
    "#         if row[0] == country:\n",
    "#             one_country.append(row)\n",
    "#     print(one_country)\n",
    "#     # Check the change in rank over the specified period\n",
    "#     if float(one_country[0][3]) > float(one_country[period - 1][3]):\n",
    "#         print(f\"{country} rank decreasing over period of {period} years\")\n",
    "#     else:\n",
    "#         print(f\"{country} rank increasing over period of {period} years\")\n",
    "\n",
    "# # Example usage:\n",
    "# find_country_rank(data_, \"Finland\", 3)\n"
   ]
  },
  {
   "cell_type": "code",
   "execution_count": null,
   "metadata": {},
   "outputs": [],
   "source": []
  },
  {
   "cell_type": "markdown",
   "metadata": {},
   "source": [
    "# Task 4\n",
    "- find list of countries"
   ]
  },
  {
   "cell_type": "code",
   "execution_count": 80,
   "metadata": {},
   "outputs": [
    {
     "data": {
      "text/plain": [
       "['Zimbabwe',\n",
       " 'Zambia',\n",
       " 'Yemen',\n",
       " 'Vietnam',\n",
       " 'Venezuela',\n",
       " 'Uzbekistan',\n",
       " 'Uruguay',\n",
       " 'United States',\n",
       " 'United Kingdom',\n",
       " 'United Arab Emirates',\n",
       " 'Ukraine',\n",
       " 'Uganda',\n",
       " 'Turkmenistan',\n",
       " 'Turkiye',\n",
       " 'Tunisia',\n",
       " 'Trinidad and Tobago',\n",
       " 'Togo',\n",
       " 'Thailand',\n",
       " 'Tanzania',\n",
       " 'Tajikistan',\n",
       " 'Taiwan',\n",
       " 'Syria',\n",
       " 'Switzerland',\n",
       " 'Sweden',\n",
       " 'Swaziland',\n",
       " 'Suriname',\n",
       " 'Sudan',\n",
       " 'Sri Lanka',\n",
       " 'Spain',\n",
       " 'South Sudan',\n",
       " 'South Korea',\n",
       " 'South Africa',\n",
       " 'Somaliland',\n",
       " 'Somalia',\n",
       " 'Slovenia',\n",
       " 'Slovakia',\n",
       " 'Singapore',\n",
       " 'Sierra Leone',\n",
       " 'Serbia',\n",
       " 'Senegal',\n",
       " 'Saudi Arabia',\n",
       " 'Rwanda',\n",
       " 'Russia',\n",
       " 'Romania',\n",
       " 'Qatar',\n",
       " 'Puerto Rico',\n",
       " 'Portugal',\n",
       " 'Poland',\n",
       " 'Philippines',\n",
       " 'Peru',\n",
       " 'Paraguay',\n",
       " 'Panama',\n",
       " 'Palestine',\n",
       " 'Pakistan',\n",
       " 'Oman',\n",
       " 'Norway',\n",
       " 'North Macedonia',\n",
       " 'North Cyprus',\n",
       " 'Nigeria',\n",
       " 'Niger',\n",
       " 'Nicaragua',\n",
       " 'New Zealand',\n",
       " 'Netherlands',\n",
       " 'Nepal',\n",
       " 'Namibia',\n",
       " 'Myanmar',\n",
       " 'Mozambique',\n",
       " 'Morocco',\n",
       " 'Montenegro',\n",
       " 'Mongolia',\n",
       " 'Moldova',\n",
       " 'Mexico',\n",
       " 'Mauritius',\n",
       " 'Mauritania',\n",
       " 'Malta',\n",
       " 'Mali',\n",
       " 'Maldives',\n",
       " 'Malaysia',\n",
       " 'Malawi',\n",
       " 'Madagascar',\n",
       " 'Luxembourg',\n",
       " 'Lithuania',\n",
       " 'Libya',\n",
       " 'Liberia',\n",
       " 'Lesotho',\n",
       " 'Lebanon',\n",
       " 'Latvia',\n",
       " 'Laos',\n",
       " 'Kyrgyzstan',\n",
       " 'Kuwait',\n",
       " 'Kosovo',\n",
       " 'Kenya',\n",
       " 'Kazakhstan',\n",
       " 'Jordan',\n",
       " 'Japan',\n",
       " 'Jamaica',\n",
       " 'Ivory Coast',\n",
       " 'Italy',\n",
       " 'Israel',\n",
       " 'Ireland',\n",
       " 'Iraq',\n",
       " 'Iran',\n",
       " 'Indonesia',\n",
       " 'India',\n",
       " 'Iceland',\n",
       " 'Hungary',\n",
       " 'Hong Kong',\n",
       " 'Honduras',\n",
       " 'Haiti',\n",
       " 'Guinea',\n",
       " 'Guatemala',\n",
       " 'Greece',\n",
       " 'Ghana',\n",
       " 'Germany',\n",
       " 'Georgia',\n",
       " 'Gambia',\n",
       " 'Gabon',\n",
       " 'France',\n",
       " 'Finland',\n",
       " 'Ethiopia',\n",
       " 'Eswatini',\n",
       " 'Estonia',\n",
       " 'El Salvador',\n",
       " 'Egypt',\n",
       " 'Ecuador',\n",
       " 'Dominican Republic',\n",
       " 'Djibouti',\n",
       " 'Denmark',\n",
       " 'Czechia',\n",
       " 'Cyprus',\n",
       " 'Croatia',\n",
       " 'Costa Rica',\n",
       " 'Congo Kinshasa',\n",
       " 'Congo Brazzaville',\n",
       " 'Congo',\n",
       " 'Comoros',\n",
       " 'Colombia',\n",
       " 'China',\n",
       " 'Chile',\n",
       " 'Chad',\n",
       " 'Central African Republic',\n",
       " 'Canada',\n",
       " 'Cameroon',\n",
       " 'Cambodia',\n",
       " 'Burundi',\n",
       " 'Burkina Faso',\n",
       " 'Bulgaria',\n",
       " 'Brazil',\n",
       " 'Botswana',\n",
       " 'Bosnia and Herzegovina',\n",
       " 'Bolivia',\n",
       " 'Bhutan',\n",
       " 'Benin',\n",
       " 'Belize',\n",
       " 'Belgium',\n",
       " 'Belarus',\n",
       " 'Bangladesh',\n",
       " 'Bahrain',\n",
       " 'Azerbaijan',\n",
       " 'Austria',\n",
       " 'Australia',\n",
       " 'Armenia',\n",
       " 'Argentina',\n",
       " 'Angola',\n",
       " 'Algeria',\n",
       " 'Albania',\n",
       " 'Afghanistan']"
      ]
     },
     "execution_count": 80,
     "metadata": {},
     "output_type": "execute_result"
    }
   ],
   "source": [
    "# function to find list of countries\n",
    "def list_countries(data, dsc=False): # select dsc true if you want descending order\n",
    "    countries = []  \n",
    "    for row in data:\n",
    "        countries.append(row[0])\n",
    "    return sorted(list(set(countries)), reverse=dsc)\n",
    "list_countries(data_, dsc=True)"
   ]
  },
  {
   "cell_type": "markdown",
   "metadata": {},
   "source": [
    "# Task 5"
   ]
  },
  {
   "cell_type": "markdown",
   "metadata": {},
   "source": [
    "- countries with or above specific index value"
   ]
  },
  {
   "cell_type": "code",
   "execution_count": 45,
   "metadata": {},
   "outputs": [
    {
     "name": "stdout",
     "output_type": "stream",
     "text": [
      "Finland: 7.842\n",
      "Finland: 7.821\n",
      "Finland: 7.809\n",
      "Finland: 7.804\n",
      "Finland: 7.769\n",
      "Denmark: 7.693\n",
      "Norway: 7.655\n",
      "Switzerland: 7.65\n",
      "Denmark: 7.646\n",
      "Denmark: 7.636\n",
      "Finland: 7.632\n",
      "Denmark: 7.62\n",
      "Denmark: 7.6\n",
      "Norway: 7.594\n",
      "Switzerland: 7.587\n",
      "Denmark: 7.586\n",
      "Switzerland: 7.571\n",
      "Iceland: 7.561\n",
      "Switzerland: 7.56\n",
      "Iceland: 7.557\n",
      "Denmark: 7.555\n",
      "Norway: 7.554\n",
      "Iceland: 7.554\n",
      "Iceland: 7.554\n",
      "Norway: 7.537\n",
      "Iceland: 7.53\n",
      "Denmark: 7.527\n",
      "Denmark: 7.526\n",
      "Norway: 7.522\n",
      "Denmark: 7.522\n",
      "Netherlands: 7.512\n",
      "Switzerland: 7.512\n",
      "Switzerland: 7.509\n",
      "Iceland: 7.504\n",
      "Iceland: 7.504\n",
      "Iceland: 7.501\n"
     ]
    }
   ],
   "source": [
    "# function to find countries with or above specific index value\n",
    "def countries_with_index_above(data, index_threshold):\n",
    "    countries_above_index = []\n",
    "    for row in data:\n",
    "        if row[2] and float(row[2]) >= index_threshold:  # Ensure index is available and meets the threshold\n",
    "            countries_above_index.append((row[0], float(row[2])))  # Store country and index as tuple\n",
    "\n",
    "    # Sort countries in descending order based on their index\n",
    "    sorted_countries = sorted(countries_above_index, key=lambda x: x[1], reverse=True)\n",
    "    return sorted_countries\n",
    "\n",
    "# Example usage:\n",
    "index_threshold = 7.5  # Set the desired index threshold\n",
    "result_countries = countries_with_index_above(data_, index_threshold)\n",
    "\n",
    "for country, index in result_countries:\n",
    "    print(f\"{country}: {index}\")\n"
   ]
  },
  {
   "cell_type": "markdown",
   "metadata": {},
   "source": [
    "# Task 6\n",
    "- group contries contries by rank"
   ]
  },
  {
   "cell_type": "code",
   "execution_count": 56,
   "metadata": {},
   "outputs": [
    {
     "name": "stdout",
     "output_type": "stream",
     "text": [
      "Rank Range 1-10: ['Netherlands', 'Canada', 'Denmark', 'Austria', 'New Zealand', 'Finland', 'Norway', 'Switzerland', 'Sweden', 'Iceland', 'Norway', 'Denmark', 'Iceland', 'Finland', 'Switzerland', 'Sweden', 'Austria', 'New Zealand', 'Netherlands', 'Luxembourg', 'Switzerland', 'Sweden', 'Austria', 'Finland', 'New Zealand', 'Netherlands', 'Iceland', 'Luxembourg', 'Denmark', 'Norway', 'Switzerland', 'Denmark', 'Luxembourg', 'Iceland', 'Sweden', 'Israel', 'Netherlands', 'New Zealand', 'Norway', 'Finland', 'Netherlands', 'Norway', 'Finland', 'New Zealand', 'Israel', 'Iceland', 'Luxembourg', 'Sweden', 'Switzerland', 'Denmark']\n",
      "Rank Range 11-20: ['Germany', 'United States', 'Australia', 'Czechia', 'United Kingdom', 'Costa Rica', 'Israel', 'Ireland', 'Luxembourg', 'Belgium', 'Israel', 'United States', 'Germany', 'Canada', 'Costa Rica', 'Belgium', 'Ireland', 'Czechia', 'Australia', 'United Kingdom', 'Belgium', 'Costa Rica', 'Canada', 'Germany', 'Israel', 'Ireland', 'United Kingdom', 'Czechia', 'Australia', 'United States', 'Australia', 'Ireland', 'United Kingdom', 'Belgium', 'Czechia', 'Canada', 'Germany', 'France', 'United States', 'Austria', 'Australia', 'United States', 'United Kingdom', 'Austria', 'Germany', 'Lithuania', 'Ireland', 'Canada', 'Belgium', 'Czechia']\n",
      "Rank Range 21-30: ['Mexico', 'Spain', 'Guatemala', 'United Arab Emirates', 'Saudi Arabia', 'Qatar', 'Chile', 'France', 'Taiwan', 'Malta', 'Italy', 'Malta', 'Mexico', 'Uruguay', 'Saudi Arabia', 'United Arab Emirates', 'Guatemala', 'Spain', 'Taiwan', 'France', 'United Arab Emirates', 'Spain', 'Bahrain', 'Saudi Arabia', 'Slovenia', 'Taiwan', 'Guatemala', 'France', 'Malta', 'Italy', 'Romania', 'Saudi Arabia', 'Costa Rica', 'United Arab Emirates', 'Taiwan', 'Singapore', 'Uruguay', 'Slovenia', 'Spain', 'Bahrain', 'Uruguay', 'United Arab Emirates', 'France', 'Taiwan', 'Slovenia', 'Costa Rica', 'Slovakia', 'Singapore', 'Romania', 'Saudi Arabia']\n",
      "Rank Range 31-40: ['Bahrain', 'Panama', 'Poland', 'Slovakia', 'Uruguay', 'Singapore', 'El Salvador', 'Trinidad and Tobago', 'Italy', 'Brazil', 'Singapore', 'Slovakia', 'El Salvador', 'Panama', 'Chile', 'Bahrain', 'Brazil', 'Slovenia', 'Kosovo', 'Uzbekistan', 'Brazil', 'Singapore', 'Slovakia', 'Cyprus', 'Mexico', 'Uruguay', 'Jamaica', 'Kosovo', 'Lithuania', 'Estonia', 'Kazakhstan', 'Kosovo', 'Malta', 'Brazil', 'Lithuania', 'Italy', 'Slovakia', 'Estonia', 'Guatemala', 'Panama', 'Estonia', 'Mexico', 'Nicaragua', 'Italy', 'Kosovo', 'Malta', 'Spain', 'Poland', 'Panama', 'Chile']\n",
      "Rank Range 41-50: ['Uzbekistan', 'Ecuador', 'Cyprus', 'Romania', 'Argentina', 'Nicaragua', 'Slovenia', 'Colombia', 'Lithuania', 'Kosovo', 'Colombia', 'Poland', 'Mauritius', 'Trinidad and Tobago', 'Kazakhstan', 'Cyprus', 'Nicaragua', 'Lithuania', 'Romania', 'Kuwait', 'Romania', 'Serbia', 'Chile', 'Mauritius', 'Uzbekistan', 'Kuwait', 'Kazakhstan', 'El Salvador', 'Poland', 'Panama', 'Croatia', 'Kuwait', 'Latvia', 'Cyprus', 'Poland', 'El Salvador', 'Chile', 'Nicaragua', 'Mexico', 'Serbia', 'Bahrain', 'Guatemala', 'Latvia', 'Japan', 'Kazakhstan', 'El Salvador', 'Brazil', 'Croatia', 'Cyprus', 'Serbia']\n",
      "Rank Range 51-60: ['Mauritius', 'Honduras', 'South Korea', 'Estonia', 'Kazakhstan', 'Kuwait', 'Japan', 'Latvia', 'Thailand', 'Jamaica', 'Estonia', 'Honduras', 'Latvia', 'Ecuador', 'Thailand', 'Philippines', 'Jamaica', 'Hungary', 'Portugal', 'Argentina', 'Thailand', 'Colombia', 'Croatia', 'Honduras', 'Argentina', 'Nicaragua', 'Hungary', 'Latvia', 'Japan', 'Portugal', 'Philippines', 'Hungary', 'Portugal', 'Japan', 'South Korea', 'Uzbekistan', 'Argentina', 'Honduras', 'Mauritius', 'Greece', 'Argentina', 'Uzbekistan', 'Greece', 'Honduras', 'Mauritius', 'Hungary', 'Malaysia', 'South Korea', 'Thailand', 'Portugal']\n",
      "Rank Range 61-70: ['Paraguay', 'Peru', 'Philippines', 'Portugal', 'Russia', 'Serbia', 'Pakistan', 'North Cyprus', 'Bolivia', 'Hungary', 'Paraguay', 'Dominican Republic', 'Japan', 'Peru', 'Pakistan', 'Serbia', 'South Korea', 'Moldova', 'Bolivia', 'Bosnia and Herzegovina', 'Bosnia and Herzegovina', 'South Korea', 'Bolivia', 'Greece', 'Mongolia', 'Moldova', 'Kyrgyzstan', 'Philippines', 'Ecuador', 'Peru', 'Bosnia and Herzegovina', 'Belarus', 'Malaysia', 'Kyrgyzstan', 'Thailand', 'Jamaica', 'Colombia', 'Mongolia', 'Moldova', 'Dominican Republic', 'Vietnam', 'Moldova', 'Mongolia', 'Montenegro', 'Jamaica', 'Kyrgyzstan', 'Bolivia', 'Paraguay', 'Russia', 'China']\n",
      "Rank Range 71-80: ['Hong Kong', 'Montenegro', 'Moldova', 'Dominican Republic', 'Croatia', 'Malaysia', 'Libya', 'Tajikistan', 'Turkiye', 'Bosnia and Herzegovina', 'Libya', 'North Cyprus', 'Tajikistan', 'Belarus', 'Hong Kong', 'Kyrgyzstan', 'Montenegro', 'Croatia', 'Greece', 'Russia', 'Russia', 'Belarus', 'Tajikistan', 'Montenegro', 'Hong Kong', 'Vietnam', 'Libya', 'North Cyprus', 'Dominican Republic', 'Paraguay', 'Paraguay', 'Vietnam', 'Peru', 'Russia', 'Bolivia', 'China', 'North Cyprus', 'Ecuador', 'Montenegro', 'Turkmenistan', 'Armenia', 'Nepal', 'Bulgaria', 'Tajikistan', 'Bosnia and Herzegovina', 'Peru', 'Dominican Republic', 'Ecuador', 'Philippines', 'Colombia']\n",
      "Rank Range 81-90: ['Mongolia', 'Greece', 'Morocco', 'Nigeria', 'North Macedonia', 'Azerbaijan', 'Belarus', 'Kyrgyzstan', 'Turkmenistan', 'Algeria', 'North Macedonia', 'Vietnam', 'Ivory Coast', 'Congo Brazzaville', 'Benin', 'Mongolia', 'Maldives', 'Malaysia', 'Indonesia', 'Azerbaijan', 'Congo Brazzaville', 'Bulgaria', 'Azerbaijan', 'China', 'Nepal', 'Ivory Coast', 'Maldives', 'Malaysia', 'Indonesia', 'Armenia', 'Indonesia', 'Albania', 'Ivory Coast', 'Libya', 'Bulgaria', 'Tajikistan', 'Nepal', 'Armenia', 'North Macedonia', 'Hong Kong', 'Algeria', 'Venezuela', 'Albania', 'Georgia', 'North Macedonia', 'Laos', 'Hong Kong', 'Indonesia', 'South Africa', 'Congo Brazzaville']\n",
      "Rank Range 91-100: ['Nepal', 'Cameroon', 'Ghana', 'China', 'Vietnam', 'Indonesia', 'Ivory Coast', 'Bhutan', 'Lebanon', 'Bulgaria', 'Bulgaria', 'Turkiye', 'China', 'Ghana', 'Venezuela', 'Morocco', 'Algeria', 'Cameroon', 'Nepal', 'Turkmenistan', 'Turkmenistan', 'Cameroon', 'Senegal', 'Benin', 'Ghana', 'Niger', 'Gambia', 'Laos', 'Albania', 'North Macedonia', 'Bangladesh', 'Laos', 'Liberia', 'Congo', 'Gambia', 'South Africa', 'Ukraine', 'Azerbaijan', 'Algeria', 'Morocco', 'Ukraine', 'Guinea', 'Morocco', 'Mozambique', 'Gabon', 'Nigeria', 'Ivory Coast', 'Iraq', 'Palestine', 'Cameroon']\n",
      "Rank Range 101-110: ['South Africa', 'Cambodia', 'Venezuela', 'Congo Brazzaville', 'Palestine', 'Gabon', 'Albania', 'Jordan', 'Laos', 'Benin', 'Cambodia', 'Senegal', 'Laos', 'Guinea', 'South Africa', 'Bangladesh', 'Gabon', 'Niger', 'Albania', 'Iraq', 'Bangladesh', 'South Africa', 'Ukraine', 'Turkiye', 'Morocco', 'Venezuela', 'Guinea', 'Algeria', 'Georgia', 'Pakistan', 'Iran', 'Iraq', 'Georgia', 'Gabon', 'Niger', 'Cameroon', 'Venezuela', 'Guinea', 'Senegal', 'Mozambique', 'Tunisia', 'Turkiye', 'Ghana', 'Namibia', 'Niger', 'Mauritania', 'Iran', 'Pakistan', 'Burkina Faso', 'Senegal']\n",
      "Rank Range 111-120: ['Namibia', 'Georgia', 'Burkina Faso', 'Guinea', 'Gambia', 'Senegal', 'Somalia', 'Niger', 'Armenia', 'Iran', 'Armenia', 'Nigeria', 'Jordan', 'Lebanon', 'Burkina Faso', 'Iran', 'Mozambique', 'Georgia', 'Mali', 'Gambia', 'Uganda', 'Cambodia', 'Burkina Faso', 'Mozambique', 'Nigeria', 'Gabon', 'Liberia', 'Mali', 'Iran', 'Iraq', 'Kenya', 'Tunisia', 'Benin', 'Turkiye', 'Uganda', 'Ghana', 'Nigeria', 'Burkina Faso', 'Comoros', 'Cambodia', 'Uganda', 'Bangladesh', 'Kenya', 'Myanmar', 'Gambia', 'Mali', 'Cambodia', 'Sri Lanka', 'Benin', 'Chad']\n",
      "Rank Range 121-130: ['Sri Lanka', 'Mozambique', 'Congo Kinshasa', 'Sierra Leone', 'Iraq', 'Bangladesh', 'Mali', 'Tunisia', 'Mauritania', 'Kenya', 'Ukraine', 'Liberia', 'Mauritania', 'Kenya', 'Tunisia', 'Palestine', 'Namibia', 'Uganda', 'Chad', 'Sri Lanka', 'Swaziland', 'Sri Lanka', 'Chad', 'Namibia', 'Myanmar', 'Lebanon', 'Jordan', 'Kenya', 'Tunisia', 'Palestine', 'Madagascar', 'Mali', 'Namibia', 'Myanmar', 'Pakistan', 'Eswatini', 'Chad', 'Sri Lanka', 'Palestine', 'Egypt', 'Zambia', 'Ethiopia', 'Liberia', 'Jordan', 'India', 'Madagascar', 'Togo', 'Tanzania', 'Egypt', 'Comoros']\n",
      "Rank Range 131-140: ['Myanmar', 'Uganda', 'Egypt', 'Chad', 'Ukraine', 'Ethiopia', 'Togo', 'Zambia', 'India', 'Swaziland', 'Swaziland', 'Burundi', 'Ethiopia', 'Togo', 'Comoros', 'Egypt', 'Sierra Leone', 'Myanmar', 'Congo Kinshasa', 'Madagascar', 'Togo', 'Burundi', 'Comoros', 'Sierra Leone', 'Egypt', 'Mauritania', 'Zambia', 'India', 'Ethiopia', 'Madagascar', 'Malawi', 'Yemen', 'India', 'Tanzania', 'Zambia', 'Togo', 'Jordan', 'Mauritania', 'Sierra Leone', 'Ethiopia', 'Afghanistan', 'Lebanon', 'Malawi', 'Botswana', 'Sierra Leone', 'Congo Kinshasa', 'Zimbabwe']\n",
      "Rank Range 141-150: ['Haiti', 'Burundi', 'Comoros', 'Zimbabwe', 'Syria', 'Madagascar', 'Botswana', 'Malawi', 'Lesotho', 'Liberia', 'Zambia', 'Lesotho', 'Haiti', 'Rwanda', 'Tanzania', 'Botswana', 'Malawi', 'India', 'Yemen', 'Central African Republic', 'Rwanda', 'Botswana', 'Tanzania', 'Haiti', 'Afghanistan', 'Zimbabwe', 'Lesotho', 'Malawi', 'Yemen', 'Botswana', 'Rwanda', 'Lebanon', 'Afghanistan', 'Lesotho', 'Zimbabwe']\n"
     ]
    }
   ],
   "source": [
    "# group contries contries by rank\n",
    "def group_countries_by_rank_ranges(data):\n",
    "    # Filter data for the last 5 years\n",
    "    last_5_years_data = [row for row in data if int(row[1]) >= 2019]\n",
    "\n",
    "    # Initialize a dictionary to store countries by rank ranges\n",
    "    rank_ranges = {f\"{i}-{i+9}\": [] for i in range(1, 151, 10)}\n",
    "\n",
    "    # Group countries by rank ranges for the last 5 years\n",
    "    for row in last_5_years_data:\n",
    "        rank = row[3]\n",
    "        if rank and rank!=\"\":  # Check if rank is available and numeric\n",
    "            rank = int(float(rank))\n",
    "            for start_rank in range(1, 151, 10):\n",
    "                end_rank = start_rank + 9\n",
    "                if start_rank <= rank <= end_rank:\n",
    "                    rank_ranges[f\"{start_rank}-{end_rank}\"].append(row[0])\n",
    "                    break  # Stop checking other ranges once added\n",
    "\n",
    "    return rank_ranges\n",
    "\n",
    "# Example usage:\n",
    "rank_groups = group_countries_by_rank_ranges(data_)\n",
    "\n",
    "# Print the countries in each rank range for the last 5 years\n",
    "for rank_range, countries in rank_groups.items():\n",
    "    if countries:  # Display only non-empty rank ranges\n",
    "        print(f\"Rank Range {rank_range}: {countries}\")\n"
   ]
  },
  {
   "cell_type": "markdown",
   "metadata": {},
   "source": [
    "# Task 7\n",
    "- countries_with_consecutive_lower_ranks over specific period"
   ]
  },
  {
   "cell_type": "code",
   "execution_count": 62,
   "metadata": {},
   "outputs": [
    {
     "name": "stdout",
     "output_type": "stream",
     "text": [
      "Countries with at least 3 consecutive years of lower ranks: ['France', 'Niger', 'India', 'Romania', 'Lebanon', 'Jamaica', 'Lesotho', 'Ukraine', 'Yemen', 'Congo Kinshasa', 'Mali', 'Turkiye', 'Bolivia', 'South Africa', 'Comoros', 'Egypt', 'Namibia', 'Haiti', 'Greece', 'Mongolia', 'Senegal', 'Ethiopia', 'Rwanda', 'Syria', 'Cyprus', 'South Korea', 'Pakistan', 'Central African Republic', 'Honduras', 'Somalia', 'Turkmenistan', 'Argentina', 'Iran', 'Burkina Faso', 'Zambia', 'Vietnam', 'Hungary', 'Angola', 'Georgia', 'Mozambique', 'Tajikistan', 'Cambodia', 'Kyrgyzstan', 'Mauritania', 'Indonesia', 'China', 'Albania', 'Brazil', 'Somaliland', 'Nigeria', 'Botswana', 'Algeria', 'Malaysia', 'Liberia', 'North Macedonia', 'Ivory Coast', 'Russia', 'Palestine', 'Slovakia', 'Bangladesh', 'Chad', 'Togo', 'Burundi', 'Congo Brazzaville', 'Taiwan', 'Kuwait', 'Dominican Republic', 'South Sudan', 'Afghanistan', 'Zimbabwe', 'Gabon', 'Madagascar', 'Armenia', 'Tanzania', 'Tunisia', 'Venezuela', 'Sierra Leone', 'Guinea', 'Malawi', 'Czechia']\n"
     ]
    }
   ],
   "source": [
    "# countries_with_consecutive_lower_ranks over specific period\n",
    "def countries_with_consecutive_lower_ranks(data, consecutive_years):\n",
    "    countries = set()\n",
    "    for i in range(len(data)):\n",
    "        lower_count = 0\n",
    "        for j in range(consecutive_years):\n",
    "            # Check for missing or non-numeric rank values\n",
    "            if i + j < len(data) - 1 and data[i + j][3] and data[i + j + 1][3]:\n",
    "                if data[i + j][3]!=\"\" and data[i + j + 1][3]!=\"\":\n",
    "                    if int(float(data[i + j][3])) > int(float(data[i + j + 1][3])):\n",
    "                        lower_count += 1\n",
    "                    else:\n",
    "                        break  # Reset count if ranks are not consecutive\n",
    "                else:\n",
    "                    break  # Reset count if rank values are not numeric\n",
    "            else:\n",
    "                break  # Reset count if rank values are missing\n",
    "\n",
    "        if lower_count == consecutive_years - 1:  # Check if consecutive lower ranks occurred\n",
    "            countries.add(data[i][0])\n",
    "\n",
    "    return list(countries)\n",
    "\n",
    "\n",
    "consecutive_years = 3  # Set the number of consecutive years to check\n",
    "countries_with_consecutive_lower = countries_with_consecutive_lower_ranks(data_, consecutive_years)\n",
    "\n",
    "print(f\"Countries with at least {consecutive_years} consecutive years of lower ranks: {countries_with_consecutive_lower}\")\n"
   ]
  },
  {
   "cell_type": "markdown",
   "metadata": {},
   "source": [
    "# Task 8\n",
    "- specific country details"
   ]
  },
  {
   "cell_type": "code",
   "execution_count": 81,
   "metadata": {},
   "outputs": [
    {
     "name": "stdout",
     "output_type": "stream",
     "text": [
      "Country Details:\n",
      "Country: Niger\n",
      "Average Rank: 121.7\n",
      "Rank Range: (96, 144)\n",
      "Index Range: (3.845, 5.074)\n",
      "Standard Deviation of Indexes: 117.28455097539488\n",
      "Year of Highest Rank: 2015\n",
      "Year of Lowest Rank: 2021\n"
     ]
    }
   ],
   "source": [
    "# Function to extract details of a specific country from the dataset\n",
    "def country_details(data, country_name):\n",
    "    # Filter rows related to the specified country and ensure valid data for index and rank\n",
    "    country_data = [row for row in data if row[0] == country_name and row[2] and row[3] \n",
    "                    and row[2] != '' and row[3] != '']\n",
    "\n",
    "    # Check if country data is found or if data is missing/invalid\n",
    "    if not country_data:\n",
    "        print(f\"Country '{country_name}' not found or missing data.\")\n",
    "        return None\n",
    "\n",
    "    # Extract indexes and ranks from valid data rows\n",
    "    indexes = [float(row[2]) for row in country_data if row[2].replace('.', '', 1) != \"\"]\n",
    "    ranks = [int(float(row[3])) for row in country_data if row[3] != \"\"]\n",
    "\n",
    "    # Check if extracted indexes or ranks are empty or invalid\n",
    "    if not indexes or not ranks:\n",
    "        print(f\"Country '{country_name}' has invalid data.\")\n",
    "        return None\n",
    "\n",
    "    # Calculate various statistics for the country\n",
    "    avg_rank = sum(ranks) / len(ranks)\n",
    "    rank_range = (min(ranks), max(ranks))\n",
    "    index_range = (min(indexes), max(indexes))\n",
    "    index_std_dev = (sum((index - avg_rank) ** 2 for index in indexes) / len(indexes)) ** 0.5\n",
    "    highest_rank_year = country_data[ranks.index(max(ranks))][1]\n",
    "    lowest_rank_year = country_data[ranks.index(min(ranks))][1]\n",
    "\n",
    "    # Construct and return a dictionary containing country details\n",
    "    return {\n",
    "        'Country': country_name,\n",
    "        'Average Rank': avg_rank,\n",
    "        'Rank Range': rank_range,\n",
    "        'Index Range': index_range,\n",
    "        'Standard Deviation of Indexes': index_std_dev,\n",
    "        'Year of Highest Rank': highest_rank_year,\n",
    "        'Year of Lowest Rank': lowest_rank_year\n",
    "    }\n",
    "\n",
    "# Define the country name to extract details for\n",
    "country_name = \"Niger\"  # Replace with desired country name\n",
    "\n",
    "# Retrieve and display details if available\n",
    "details = country_details(data_, country_name)\n",
    "if details:\n",
    "    print(\"Country Details:\")\n",
    "    for key, value in details.items():\n",
    "        print(f\"{key}: {value}\")\n"
   ]
  },
  {
   "cell_type": "code",
   "execution_count": 70,
   "metadata": {},
   "outputs": [
    {
     "name": "stdout",
     "output_type": "stream",
     "text": [
      "\n",
      "        Please Select from the menu to perform specific operation\n",
      "        1. Top 10 happiest countries or least happiest\n",
      "        2. top 3 countries that have most first positions from top and bottom\n",
      "        3. Specific country with increasing its rank or decreasing its rank over specific period\n",
      "        4. find list of countries\n",
      "        5. countries with or above specific index value\n",
      "        6. group contries contries by rank\n",
      "        7. countries_with_consecutive_lower_ranks over specific period\n",
      "        8. specific country details\n",
      "    \n",
      "Top 5 least happiest countries in year 2015\n",
      " [('Rwanda', 3.465), ('Benin', 3.34), ('Syria', 3.006), ('Burundi', 2.905), ('Togo', 2.839)] \n",
      "\n",
      "\n"
     ]
    }
   ],
   "source": [
    "def select_task():\n",
    "    instructions = \"\"\"\n",
    "        Please Select from the menu to perform specific operation\n",
    "        1. Top 10 happiest countries or least happiest\n",
    "        2. top 3 countries that have most first positions from top and bottom\n",
    "        3. Specific country with increasing its rank or decreasing its rank over specific period\n",
    "        4. find list of countries\n",
    "        5. countries with or above specific index value\n",
    "        6. group contries contries by rank\n",
    "        7. countries_with_consecutive_lower_ranks over specific period\n",
    "        8. specific country details\n",
    "    \"\"\"\n",
    "    print(instructions)\n",
    "    choice = int(input(\"Please select 1 to 8 number to perform operations: \"))\n",
    "    header = data[0]\n",
    "    data_ = data[1:]\n",
    "    if choice==1:\n",
    "        specific_year = input(\"Enter year: \")\n",
    "        top_from_bottom = bool(input(\"select top_from_bottom value(True/False)\"))\n",
    "        top_count=int(input(\"Enter top count: \"))\n",
    "\n",
    "        top_countries_data = get_top_countries_by_year(data_, specific_year=specific_year, top_from_bottom=top_from_bottom, top_count=top_count, print_all=False)\n",
    "        top_countries_data\n",
    "    elif choice==2:\n",
    "        top_from_bottom = bool(input(\"select top_from_bottom value(True/False)\"))\n",
    "        top_count=int(input(\"Enter top count: \"))\n",
    "        top_countries_data = top_3_Countries_with_most_first_positions(data_, top_from_bottom=top_from_bottom, top_count=top_count)\n",
    "        print(top_countries_data)\n",
    "    elif choice==3:\n",
    "        country = input(\"Enter country name(that are in list): \")\n",
    "        period = int(input(\"Enter period value(int 1 to 10): \"))\n",
    "        find_country_rank(data_, country, period)\n",
    "    elif choice==4:\n",
    "        dsc = bool(input(\"descending order?(True/False): \"))\n",
    "        print(list_countries(data_, dsc=dsc))\n",
    "    elif choice==5:\n",
    "        index_threshold = float(input(\"Enter threshold value(float): \"))\n",
    "        result_countries = countries_with_index_above(data_, index_threshold)\n",
    "        for country, index in result_countries:\n",
    "            print(f\"{country}: {index}\")\n",
    "    elif choice==6:\n",
    "        rank_groups = group_countries_by_rank_ranges(data_)\n",
    "        # Print the countries in each rank range for the last 5 years\n",
    "        for rank_range, countries in rank_groups.items():\n",
    "            if countries:  # Display only non-empty rank ranges\n",
    "                print(f\"Rank Range {rank_range}: {countries}\")\n",
    "    elif choice==7:\n",
    "        consecutive_years = int(input(\"Enter the number of consective years: \"))\n",
    "        countries_with_consecutive_lower = countries_with_consecutive_lower_ranks(data_, consecutive_years)\n",
    "\n",
    "        print(f\"Countries with at least {consecutive_years} consecutive years of lower ranks: {countries_with_consecutive_lower}\")\n",
    "    elif choice==8:\n",
    "        country_name = input(\"Enter Country name: \")\n",
    "        details = country_details(data_, country_name)\n",
    "        if details:\n",
    "            print(\"Country Details:\")\n",
    "            for key, value in details.items():\n",
    "                print(f\"{key}: {value}\")\n",
    "    else:\n",
    "        print(\"Please select a valid choice!!\")\n",
    "select_task()"
   ]
  }
 ],
 "metadata": {
  "kernelspec": {
   "display_name": "ai",
   "language": "python",
   "name": "python3"
  },
  "language_info": {
   "codemirror_mode": {
    "name": "ipython",
    "version": 3
   },
   "file_extension": ".py",
   "mimetype": "text/x-python",
   "name": "python",
   "nbconvert_exporter": "python",
   "pygments_lexer": "ipython3",
   "version": "3.11.6"
  }
 },
 "nbformat": 4,
 "nbformat_minor": 2
}
