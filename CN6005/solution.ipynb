{
 "cells": [
  {
   "cell_type": "markdown",
   "metadata": {},
   "source": [
    "# Question No.1\n",
    "`Question` Predict the class label using Naïve Bayes algorithm for the following scenario:\n",
    "Student = Is_a_student , Salary < 20K, Studies = Engineering, Credit rating \n",
    "=Good\n",
    "\n",
    "`Answer`\n",
    "- Calculating prior probabiliy\n",
    "- calculating likelihood tabels"
   ]
  },
  {
   "cell_type": "code",
   "execution_count": 29,
   "metadata": {},
   "outputs": [
    {
     "name": "stdout",
     "output_type": "stream",
     "text": [
      "Predicted label: MAYBE\n"
     ]
    }
   ],
   "source": [
    "from sklearn.naive_bayes import CategoricalNB\n",
    "import pandas as pd\n",
    "\n",
    "# storing provided dataset\n",
    "# data = {\n",
    "#     'Student': ['Is_a_student', 'Not_a_student', 'Is_a_student', 'Is_a_student', 'Is_a_student',\n",
    "#                 'Not_a_student', 'Is_a_student', 'Not_a_student', 'Is_a_student', 'Is_a_student'],\n",
    "#     'Salary': ['>20k', '<20k', '>20k', '>20k', '>20k', '>20k', '>20k', '<20k', '<20k', '<20k'],\n",
    "#     'Studies': ['Computer Science', 'Computer Science', 'Maths', 'Engineering', 'Maths',\n",
    "#                 'Engineering', 'Maths', 'Computer Science', 'Computer Science', 'Maths'],\n",
    "#     'Credit rating': ['Fair', 'Good', 'Excellent', 'Fair', 'Good', 'Excellent', 'Fair', 'Good', 'Fair', 'Excellent'],\n",
    "#     'CLASS(Buys a car)': ['NO', 'NO', 'NO', 'MAYBE', 'MAYBE', 'YES', 'YES', 'YES', 'NO', 'MAYBE']\n",
    "# }\n",
    "\n",
    " # in first step we have stored our data in csv file\n",
    " # reading the csv file\n",
    "data = pd.read_csv('data.csv')\n",
    "\n",
    "# Creating dictionaries for manual encoding (we used manual enconding for gettting better results)\n",
    "student_dict = {'Is_a_student': 1, 'Not_a_student': 0}\n",
    "salary_dict = {'>20k': 1, '<20k': 0}\n",
    "studies_dict = {'Computer Science': 0, 'Maths': 1, 'Engineering': 2}\n",
    "credit_rating_dict = {'Fair': 0, 'Good': 1, 'Excellent': 2}\n",
    "class_dict = {'NO': 0, 'MAYBE': 1, 'YES': 2}\n",
    "\n",
    "# Mapping dictionaries to the dataset\n",
    "data_encoded = {\n",
    "    'Student': [student_dict[item] for item in data['Student']],\n",
    "    'Salary': [salary_dict[item] for item in data['Salary']],\n",
    "    'Studies': [studies_dict[item] for item in data['Studies']],\n",
    "    'Credit rating': [credit_rating_dict[item] for item in data['Credit rating']],\n",
    "    'CLASS(Buys a car)': [class_dict[item] for item in data['CLASS(Buys a car)']]\n",
    "}\n",
    "\n",
    "# Creating a DataFrame from the encoded data\n",
    "df_encoded = pd.DataFrame(data_encoded)\n",
    "\n",
    "# Creating the Naive Bayes classifier\n",
    "nb_classifier = CategoricalNB()\n",
    "\n",
    "# Training the classifier\n",
    "X_train = df_encoded.drop('CLASS(Buys a car)', axis=1)\n",
    "y_train = df_encoded['CLASS(Buys a car)']\n",
    "nb_classifier.fit(X_train, y_train)\n",
    "\n",
    "# Encoding the new data\n",
    "new_data = {\n",
    "    'Student': ['Is_a_student'],\n",
    "    'Salary': ['<20k'],\n",
    "    'Studies': ['Engineering'],\n",
    "    'Credit rating': ['Good']\n",
    "}\n",
    "new_data_encoded = {\n",
    "    'Student': [student_dict[item] for item in new_data['Student']],\n",
    "    'Salary': [salary_dict[item] for item in new_data['Salary']],\n",
    "    'Studies': [studies_dict[item] for item in new_data['Studies']],\n",
    "    'Credit rating': [credit_rating_dict[item] for item in new_data['Credit rating']]\n",
    "}\n",
    "new_df_encoded = pd.DataFrame(new_data_encoded)\n",
    "\n",
    "# Making predictions\n",
    "predictions = nb_classifier.predict(new_df_encoded)\n",
    "print(\"Predicted label:\", list(class_dict.keys())[list(class_dict.values()).index(predictions[0])])"
   ]
  },
  {
   "cell_type": "markdown",
   "metadata": {},
   "source": [
    "# Question 2\n",
    "\n",
    "Sentence 1:\n",
    "\"Engaging, exciting, and stimulating education can be enriching and empowering, while boring and tedious education can be stultifying and disengaging.\"\n",
    "\n",
    "Positive words: Engaging, stimulating, enriching, empowering (4 words)\n",
    "Negative words: Boring, tedious, stultifying, disengaging (4 words)\n",
    "\n",
    "Polarity of Sentence 1 = (Number of positive words) - (Number of negative words) = 4 - 4 = 0\n",
    "\n",
    "Sentence 2:\n",
    "\"Liberating and transformative education can be inspiring and motivating, while alienating education can be unmotivating.\"\n",
    "\n",
    "Positive words: Liberating, transformative, inspiring, motivating (4 words)\n",
    "Negative words: Alienating, unmotivating (2 words)\n",
    "\n",
    "Polarity of Sentence 2 = (Number of positive words) - (Number of negative words) = 4 - 2 = 2"
   ]
  },
  {
   "cell_type": "code",
   "execution_count": null,
   "metadata": {},
   "outputs": [],
   "source": []
  }
 ],
 "metadata": {
  "kernelspec": {
   "display_name": "ai",
   "language": "python",
   "name": "python3"
  },
  "language_info": {
   "codemirror_mode": {
    "name": "ipython",
    "version": 3
   },
   "file_extension": ".py",
   "mimetype": "text/x-python",
   "name": "python",
   "nbconvert_exporter": "python",
   "pygments_lexer": "ipython3",
   "version": "3.11.6"
  }
 },
 "nbformat": 4,
 "nbformat_minor": 2
}
