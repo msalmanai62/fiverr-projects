{
  "cells": [
    {
      "cell_type": "markdown",
      "metadata": {
        "id": "Ad0BygOFAL7L"
      },
      "source": [
        "Student name:\n",
        "\n",
        "Student number:"
      ]
    },
    {
      "cell_type": "markdown",
      "metadata": {
        "id": "8uZiZOMlEg4q"
      },
      "source": [
        "This is the full HI coursework\n",
        "\n",
        "The total coursework mark is out of 25."
      ]
    },
    {
      "cell_type": "markdown",
      "metadata": {
        "id": "H3jUZlfsFq2T"
      },
      "source": [
        "Note on all questions:\n",
        "* Even if your code contains bugs or doesn't compile, you will potentially be awarded partial marks for your effort. You will not be penalised or marked for the exact format of messages you output to user (so you won't lose mark on typos or grammatical mistakes or not adhering strictly to each word that should appear in a message)\n",
        "\n",
        "* When implementing chatbots, unless stated otherwise, you can assume users will interact in the correct way, so for example they will respond with a number if they are asked for a number, or their name if they are asked for it. This is of course a simplifying assumptions since users can interact in all kinds of unexpected way (for example in real life they might misunderstand a question or respond with a swear word if they get frustrated), but it would be very time-consuming to implement your code to handle all of these cases.\n",
        "\n",
        "* As in real life, sometimes the requirements you are provided with by the clients are ambiguous, in which case you can make reasonable assumptions and write them down as comments. But please don't make simplifying assumptions that override a clearly stated requirement."
      ]
    },
    {
      "cell_type": "markdown",
      "metadata": {
        "id": "wdiRYpWVY3Tl"
      },
      "source": [
        "**AI Policy**\n",
        "\n",
        "You are allowed to use AI for the coding segments unless otherwise stated. You don't need to specify if the code was generated using AI-assistance. You can use AI for the non-coding segments (there is only one such question in this half of the coursework) for guidance only (as in use it for ideas) but not for generating the entire answer.\n",
        "\n",
        "Surprisingly, in my experience so far, students have found it easier to implement easier exercise without AI-assistance as it is more efficient than trying to fix or modify a complicated AI-generated answer.\n",
        "\n"
      ]
    },
    {
      "cell_type": "markdown",
      "metadata": {
        "id": "9mCWhPpQ_YNy"
      },
      "source": [
        "**Question 1**\n",
        "\n",
        "Consider the following (unscientific and unrigorous but used for illustrative purposes in this question) table that provides a cancer risk category based on lifestyle and demographic attributes.\n",
        "\n",
        "\n",
        "\n",
        "   | Avg portion vegs + fruits / day   |   Smoker   |       Age           |     Risk|\n",
        "   |:-----------------------------------:|:---------------------------:|:-------------------:|:-------:|\n",
        "   |        1 or none        |            No               |    less than (or eq) 40     |     MEDIUM  |\n",
        "   |        1 or none        |            No               |    more than 40     |     MEDIUM  |\n",
        "   |        1 or none        |       Yes          |    less than (or eq) 40     |     HIGH |\n",
        "   |        1 or none        |        Yes          |    more than 40     |     HIGH |\n",
        "|                2 or more        |            No               |    less than (or eq) 40     |     LOW  |\n",
        "|                 2 or more        |            No               |    more than 40     |     LOW  |  \n",
        "|                 2 or more        |        Yes         |    less than (or eq) 40     |    MEDIUM|\n",
        "|                 2 or more        |        Yes          |    more than 40     |     HIGH |\n",
        "                 \n",
        "                 \n",
        "\n",
        "      "
      ]
    },
    {
      "cell_type": "markdown",
      "metadata": {
        "id": "_bXd8qHJ_YNz"
      },
      "source": [
        "\n",
        "**Part a)  (2 mark)**\n",
        "\n",
        "Cancer riskbot verison 1.\n",
        "\n",
        "Write a medical chatbot that asks users at most 3 questions about their lifestyle habits (so their average vegetable consumption and their smoking habits) and a question about their demographic (their age) and then responds with their risk of cancer (for example: \"Your cancer risk category is HIGH.\") according to the above table and the user's responses."
      ]
    },
    {
      "cell_type": "code",
      "execution_count": 18,
      "metadata": {
        "id": "2mwS3A5GrVAb"
      },
      "outputs": [
        {
          "name": "stdout",
          "output_type": "stream",
          "text": [
            "Welcome to the Medical Chatbot!\n",
            "Your cancer risk category is LOW.\n"
          ]
        }
      ],
      "source": [
        "def calculate_cancer_risk(veg_fruit_portion, smoker, age):\n",
        "    if veg_fruit_portion <= 1 and smoker=='no' and age <= 40:\n",
        "        return \"MEDIUM\"\n",
        "    elif veg_fruit_portion <= 1 and smoker=='no' and age > 40:\n",
        "        return \"MEDIUM\"\n",
        "    elif veg_fruit_portion <= 1 and smoker=='yes' and age <= 40:\n",
        "        return \"HIGH\"\n",
        "    elif veg_fruit_portion <= 1 and smoker=='yes' and age > 40:\n",
        "        return \"HIGH\"\n",
        "    elif veg_fruit_portion >= 2 and smoker=='no' and age <= 40:\n",
        "        return \"LOW\"\n",
        "    elif veg_fruit_portion >= 2 and smoker=='no' and age > 40:\n",
        "        return \"LOW\"\n",
        "    elif veg_fruit_portion >= 2 and smoker=='yes' and age <= 40:\n",
        "        return \"MEDIUM\"\n",
        "    elif veg_fruit_portion >= 2 and smoker=='yes' and age > 40:\n",
        "        return \"HIGH\"\n",
        "    else:\n",
        "        return \"INVALID INPUT\"\n",
        "\n",
        "def medical_chatbot():\n",
        "    print(\"Welcome to the Medical Chatbot version 1.0!\")\n",
        "    \n",
        "    # question about vegetable and fruit consumption\n",
        "    veg_fruit_portion = int(input(\"How many portions of vegetables and fruits do you consume on average per day? (Enter a number): \"))\n",
        "    \n",
        "    # question about smoking habits\n",
        "    smoker = input(\"Do you smoke? (Enter 'Yes' or 'No'): \").lower()\n",
        "    \n",
        "    # question about age\n",
        "    age = int(input(\"What is your age? (Enter a number): \"))\n",
        "    \n",
        "    # cancer risk calculation\n",
        "    risk = calculate_cancer_risk(veg_fruit_portion, smoker, age)\n",
        "    \n",
        "    # print result\n",
        "    print(f\"Your cancer risk category is {risk}.\")\n",
        "\n",
        "# call the chatbot\n",
        "medical_chatbot()\n"
      ]
    },
    {
      "cell_type": "markdown",
      "metadata": {
        "id": "dZ26OffQ_YNz"
      },
      "source": [
        "**Part b) (2 marks)**\n",
        "\n",
        "Cancer riskbot 2.0\n",
        "\n",
        "Enhance the above chatbot by implementing the following new \"health recommendation feature\".\n",
        "\n",
        "You can copy and start with your solution for part a.\n",
        "\n",
        "For this version, the cancer riskbot will provide medical advise on how the user can improve their cancer risk profiles as follows:\n",
        "\n",
        "* If a user's risk category improves (as in decrease) by increasing avg intake of fruits and vegetables, then after it outputs the risk category, the chatbot will provide the followng recommendation message\n",
        "\n",
        "\"Your cancer risk category will improve from XXX to YYY if you increase your daily portion of fruit and vegetables.\"  \n",
        "\n",
        "In the message you should replace XXX and YYY with the correct risk category according to the situation: LOW/MEDIUM/HIGH.\n",
        "\n",
        "\n",
        "* If a user's risk category worsens if they pick up smoking  (assuming their age remains fixed), the chatbot will provide the following recommendation\n",
        "\n",
        "\"Your cancer risk category will worsen from XXX to YYY if you pick up somking.\"\n",
        "\n",
        "Again you should replace XXX and YYY with the correct category according to the situation.\n",
        "\n"
      ]
    },
    {
      "cell_type": "code",
      "execution_count": 1,
      "metadata": {},
      "outputs": [
        {
          "name": "stdout",
          "output_type": "stream",
          "text": [
            "Welcome to the Cancer RiskBot 2.0!\n",
            "\n",
            "Your current cancer risk category is MEDIUM.\n",
            "Your cancer risk category will improve from MEDIUM to LOW if you increase your daily portion of fruit and vegetables.\n"
          ]
        }
      ],
      "source": [
        "def calculate_cancer_risk_with_recommendation(veg_fruit_portion, smoker, age):\n",
        "    message1 = \"Your cancer risk category will improve from %s to %s if you increase your daily portion of fruit and vegetables.\"\n",
        "    message2 = \"Your cancer risk category will worsen from %s to %s if you pick up somking.\"\n",
        "    message = \"\"\n",
        "    risk_cat = \"\"\n",
        "    if veg_fruit_portion <= 1 and not smoker and age <= 40:\n",
        "        risk_cat = \"MEDIUM\"\n",
        "        message = message1%(risk_cat, 'LOW')\n",
        "        return risk_cat, message\n",
        "    elif veg_fruit_portion <= 1 and not smoker and age > 40:\n",
        "        risk_cat = \"MEDIUM\"\n",
        "        message = message1%(risk_cat, 'LOW')\n",
        "        return risk_cat, message\n",
        "    elif veg_fruit_portion <= 1 and smoker and age <= 40:\n",
        "        risk_cat = \"HIGH\"\n",
        "        message = message1%(risk_cat, 'MEDIUM')\n",
        "        return risk_cat, message\n",
        "    elif veg_fruit_portion <= 1 and smoker and age > 40:\n",
        "        return \"HIGH\", message\n",
        "    elif veg_fruit_portion >= 2 and not smoker and age <= 40:\n",
        "        risk_cat = \"LOW\"\n",
        "        message = message2%(risk_cat, 'MEDIUM')\n",
        "        return risk_cat, message\n",
        "    elif veg_fruit_portion >= 2 and not smoker and age > 40:\n",
        "        risk_cat = \"LOW\"\n",
        "        message = message2%(risk_cat, 'HIGH')\n",
        "        return risk_cat, message\n",
        "    elif veg_fruit_portion >= 2 and smoker and age <= 40:\n",
        "        return \"MEDIUM\", message\n",
        "    elif veg_fruit_portion >= 2 and smoker and age > 40:\n",
        "        return \"HIGH\", message\n",
        "    else:\n",
        "        message = 'Please enter valid input: '\n",
        "        return \"Error: INVALID INPUT\", message\n",
        "\n",
        "# Calling chatbot to get inputs from user\n",
        "def medical_chatbot_with_recommeddation():\n",
        "    print(\"Welcome to the Cancer RiskBot 2.0!\\n\")\n",
        "    \n",
        "    # Ask about vegetable and fruit consumption\n",
        "    veg_fruit_portion = int(input(\"How many portions of vegetables and fruits do you consume on average per day? (Enter a number): \"))\n",
        "    \n",
        "    # Ask about smoking habits\n",
        "    smoker = input(\"Do you smoke? (Enter 'Yes' or 'No'): \").lower() == 'yes'\n",
        "    \n",
        "    # Ask about age\n",
        "    age = int(input(\"What is your age? (Enter a number): \"))\n",
        "    \n",
        "    # Calculate current cancer risk\n",
        "    current_risk, msg = calculate_cancer_risk_with_recommendation(veg_fruit_portion, smoker, age)\n",
        "    \n",
        "    # Display the current risk category anf the recommendation\n",
        "    print(f\"Your current cancer risk category is {current_risk}.\\n{msg}\")\n",
        "    \n",
        "medical_chatbot_with_recommeddation()"
      ]
    },
    {
      "cell_type": "markdown",
      "metadata": {
        "id": "KYrWhf4y_YN0"
      },
      "source": [
        "**Part c) (3 marks)**\n",
        "\n",
        "Cancer riskbot v3\n",
        "\n",
        "Note: this is a challenging question (probably the hardest in the entire coursework) and will involve self-studying python features we haven't and won't cover in the sessions (hint: one way of doing it is by using python 'while' keyword).\n",
        "\n",
        "You can copy and start with your solution for part a (so it doesn't need to have the recommendation feature from 2.0 enabled)\n",
        "\n",
        "In cancer riskbot 3.0 we want to make our chatbot privacy-compliant and more conversational. It will inform a user on all data it holds or has collected from them and it will provide them with a prompt risk assessment on demand. This is accomplished by the following features:\n",
        "\n",
        "At any point in the chatbot dialogue the user can answer with the keyword \"history\" or \"status\".\n",
        "\n",
        "If the user triggers the \"history\" feature then the chatbot will output all data they collected from the user thus far in the conversation, for example the user will see the following output:\n",
        "\n",
        "_Data collected from this conversation:_\n",
        "\n",
        "_Avg vegetable portion: 2_\n",
        "\n",
        "_Non-smoker_\n",
        "\n",
        "After the chatbot outputs the above, it will then resume the dialogue by asking again the last question it asked when the user entered 'history'.\n",
        "\n",
        "If the user responds with \"status\" then the chatbot will return a reasonable guess of the user's risk profile based on the answers they provided in the conversation so far. For example the user might trigger this command after only answering one question in which case the chatbot will respond with \"Based on answers you provided so far your risk profile is most likely LOW.\"\n",
        "\n",
        "You can assume that if a user is equally likely to be in more than one category based on their answers so far, it will always return the highest risk category as its guess.\n",
        "\n",
        "The chatbot should also be able to deal with multiple \"history\" or \"status\" commands in whatever sequence, always continuing the questioning afterwards at the point they were interrupted. Including the use being able to trigger history or status before even answering any questions.\n",
        "\n",
        "For example, a user can first answer a question then trigger history twice, then trigger status, then answer the second question then trigger status again, then history again then answer the third and final question.\n",
        "\n",
        "There will be 2 marks for correctness. One extra mark will be awarded if you implement the commands such that they will be triggered anytime the user responds with a sentence that contains the word \"history\" or contains the word \"status\" (including with capitalisation). For example they will be triggered with the following commands \"what is my history?\", \"can you show me my History please?\" \"what is my status so far?\" \"WHAT IS MY STATUS?????\". You can assume the user never replies with a sentence containing history and status at the same time."
      ]
    },
    {
      "cell_type": "code",
      "execution_count": 2,
      "metadata": {},
      "outputs": [
        {
          "name": "stdout",
          "output_type": "stream",
          "text": [
            "Welcome to the Medical Chatbot!\n",
            "{'veg_fruit_portion': 1}\n",
            "{'veg_fruit_portion': 1}\n",
            "Your risk is probably: HIGH\n",
            "Your risk is probably: HIGH\n",
            "{'veg_fruit_portion': 1}\n",
            "Your risk is probably: HIGH\n",
            "{'veg_fruit_portion': 1, 'smoker': 'smoker'}\n",
            "Your risk is probably: HIGH\n",
            "{'veg_fruit_portion': 1, 'smoker': 'smoker'}\n",
            "Your cancer risk category is HIGH.\n"
          ]
        }
      ],
      "source": [
        "def calculate_cancer_risk(veg_fruit_portion, smoker, age):\n",
        "    if veg_fruit_portion <= 1 and smoker=='no' and age <= 40:\n",
        "        return \"MEDIUM\"\n",
        "    elif veg_fruit_portion <= 1 and smoker=='no' and age > 40:\n",
        "        return \"MEDIUM\"\n",
        "    elif veg_fruit_portion <= 1 and smoker=='yes' and age <= 40:\n",
        "        return \"HIGH\"\n",
        "    elif veg_fruit_portion <= 1 and smoker=='yes' and age > 40:\n",
        "        return \"HIGH\"\n",
        "    elif veg_fruit_portion >= 2 and smoker=='no' and age <= 40:\n",
        "        return \"LOW\"\n",
        "    elif veg_fruit_portion >= 2 and smoker=='no' and age > 40:\n",
        "        return \"LOW\"\n",
        "    elif veg_fruit_portion >= 2 and smoker=='yes' and age <= 40:\n",
        "        return \"MEDIUM\"\n",
        "    elif veg_fruit_portion >= 2 and smoker=='yes' and age > 40:\n",
        "        return \"HIGH\"\n",
        "    else:\n",
        "        return \"INVALID INPUT\"\n",
        "\n",
        "def medical_chatbot():\n",
        "    print(\"Welcome to the Medical Chatbot!\")\n",
        "    histt = {}\n",
        "    veg_fruit_portion = int(input(\"How many portions of vegetables and fruits do you consume on average per day? (Enter a number): \"))\n",
        "    histt['veg_fruit_portion'] = veg_fruit_portion\n",
        "    \n",
        "    while True:\n",
        "        user_choice = input(\"Ask next question, history, or status: \")\n",
        "        \n",
        "        if user_choice.lower() == 'question':\n",
        "            smoker = input(\"Do you smoke? (Enter 'Yes' or 'No'): \").lower()\n",
        "            histt['smoker'] = \"smoker\" if smoker == 'yes' else \"not smoker\"\n",
        "            \n",
        "            while True:\n",
        "                user_choice1 = input(\"Ask next question, history, or status: \")\n",
        "                \n",
        "                if user_choice1.lower() == 'question':\n",
        "                    age = int(input(\"What is your age? (Enter a number): \"))\n",
        "                    histt['age'] = age\n",
        "                    risk = calculate_cancer_risk(veg_fruit_portion, smoker, age)\n",
        "                    print(f\"Your cancer risk category is {risk}.\")\n",
        "                    break  # Exit the inner loop after calculating risk\n",
        "                    \n",
        "                elif 'history' in user_choice1.lower():\n",
        "                    print(histt)\n",
        "                    \n",
        "                elif 'status' in user_choice1.lower():\n",
        "                    # Provide risk estimation based on the current data\n",
        "                    if veg_fruit_portion <= 1:\n",
        "                        print('Your risk is probably: HIGH')\n",
        "                    else:\n",
        "                        print('Your risk is probably: Medium')\n",
        "            \n",
        "            # Exit the outer loop after getting risk or history/status\n",
        "            break\n",
        "                \n",
        "        elif 'history' in user_choice.lower():\n",
        "            print(histt)\n",
        "            \n",
        "        elif 'status' in user_choice.lower():\n",
        "            # Provide risk estimation based on the initial data\n",
        "            if veg_fruit_portion <= 1:\n",
        "                print('Your risk is probably: HIGH')\n",
        "            else:\n",
        "                print('Your risk is probably: Medium')\n",
        "\n",
        "# call the chatbot\n",
        "medical_chatbot()\n"
      ]
    },
    {
      "cell_type": "markdown",
      "metadata": {
        "id": "kbOXLg31dliM"
      },
      "source": [
        "**Question 2 background**\n",
        "\n",
        "Note: this is a *very* challenging question and requires some signficant practice in looping through list and performing sophisticated computation, please refer to the list of recommended tutorials to enahnce further your knowledge in this area. Apart from the coding challenge it will also require some thinking on actually *what* to implement.\n",
        "\n",
        "You can't use a python package library or package to solve it, (meaning you can't use the \"import\" statement to import a library to solve it)"
      ]
    },
    {
      "cell_type": "markdown",
      "metadata": {
        "id": "39nnw2z1dq6M"
      },
      "source": [
        "One limitation of our cancer RiskBot was that it was based on a static table that was provided by the domain expert.\n",
        "\n",
        "To make our RiskBot more data-driven and dynamic we would like to base it on the 'raw' data, that is we would like it to generate the table it uses for its decision tree on its own by scanning through the original dataset.\n",
        "\n",
        "Consider the following (unscientific) data file on cancer patients\n",
        "\n",
        "https://docs.google.com/spreadsheets/d/1lh3Fq86kuu3EeSv-LUr3We2xtkAhTjtvblXslY-wZTs/edit?usp=sharing\n",
        "\n",
        "It contains three attribute columns and a fourth target column. Each row represents the details of one individual. The first column contains one if the individual follows a vegetarian diet, 0 otherwise. The second column contains the number of years they smoked and the third column contains their age. The last column contains 1 if the individual developed some form of cancer, 0 otherwise.\n",
        "\n",
        "The data in the spreadsheet above is also stored in the following list of lists called cancer_data_list, here each inner list represents one individual."
      ]
    },
    {
      "cell_type": "code",
      "execution_count": 26,
      "metadata": {},
      "outputs": [],
      "source": [
        "columns = ['vegetarian', 'years smoked', 'age', 'cancer']"
      ]
    },
    {
      "cell_type": "code",
      "execution_count": 49,
      "metadata": {
        "id": "9_ZlK9tSd3ad"
      },
      "outputs": [],
      "source": [
        "cancer_data_list = [\n",
        " [0, 12, 41, 1],\n",
        " [1, 20, 44, 0],\n",
        " [0, 8, 30, 0],\n",
        " [0, 0, 25, 1],\n",
        " [0, 15, 36, 1],\n",
        " [1, 17, 42, 0],\n",
        " [0, 22, 40, 1],\n",
        " [0, 0, 61, 1],\n",
        " [1, 2, 64, 0],\n",
        " [1, 0, 60, 0],\n",
        " [0, 0, 78, 0],\n",
        " [0, 28, 60, 1],\n",
        " [0, 41, 72, 1],\n",
        " [0, 43, 62, 1],\n",
        " [1, 4, 72, 0],\n",
        " [0, 0, 81, 0],\n",
        " [1, 0, 59, 0],\n",
        " [0, 26, 55, 1],\n",
        " [1, 33, 59, 0],\n",
        " [0, 30, 48, 1],\n",
        " [1, 0, 56, 0],\n",
        " [0, 0, 61, 0],\n",
        " [0, 0, 64, 1],\n",
        " [0, 0, 73, 0],\n",
        " [0, 28, 64, 1],\n",
        " [0, 41, 61, 1],\n",
        " [1, 26, 46, 1],\n",
        " [0, 41, 62, 0],\n",
        " [1, 15, 38, 1],\n",
        " [1, 0, 25, 0],\n",
        " [1, 0, 28, 0],\n",
        " [0, 0, 82, 0],\n",
        " [1, 3, 24, 1],\n",
        " [1, 8, 29, 0],\n",
        " [0, 4, 22, 1],\n",
        " [1, 0, 17, 0],\n",
        " [1, 0, 75, 0],\n",
        " [1, 0, 71, 0],\n",
        " [0, 0, 72, 0],\n",
        " [0, 11, 38, 1],\n",
        " [0, 8, 32, 0],\n",
        " [0, 28, 54, 1],\n",
        " [0, 37, 65, 1],\n",
        " [0, 11, 30, 0],\n",
        " [1, 0, 87, 0],\n",
        " [1, 0, 82, 0],\n",
        " [1, 0, 49, 1],\n",
        " [1, 14, 40, 0],\n",
        " [1, 20, 50, 0],\n",
        " [0, 5, 25, 0]\n",
        " ]"
      ]
    },
    {
      "cell_type": "markdown",
      "metadata": {
        "id": "M7i6r6mPd54w"
      },
      "source": [
        "**Note that you need to run the above cell to be able to use the variable**"
      ]
    },
    {
      "cell_type": "code",
      "execution_count": null,
      "metadata": {
        "colab": {
          "base_uri": "https://localhost:8080/"
        },
        "id": "jrVHLyqodpne",
        "outputId": "271a5730-93ec-4903-f164-f7bad9120dd4"
      },
      "outputs": [
        {
          "data": {
            "text/plain": [
              "50"
            ]
          },
          "execution_count": 2,
          "metadata": {},
          "output_type": "execute_result"
        }
      ],
      "source": [
        "len(cancer_data_list)"
      ]
    },
    {
      "cell_type": "code",
      "execution_count": null,
      "metadata": {
        "colab": {
          "base_uri": "https://localhost:8080/"
        },
        "id": "XzGX4MqceCyf",
        "outputId": "7c3aebe2-c47d-445e-e4c7-65500da7b6f3"
      },
      "outputs": [
        {
          "data": {
            "text/plain": [
              "[0, 12, 41, 1]"
            ]
          },
          "execution_count": 3,
          "metadata": {},
          "output_type": "execute_result"
        }
      ],
      "source": [
        "cancer_data_list[0]"
      ]
    },
    {
      "cell_type": "markdown",
      "metadata": {},
      "source": [
        "## Creating buckets of `age` and `smoking years` columns"
      ]
    },
    {
      "cell_type": "code",
      "execution_count": 51,
      "metadata": {},
      "outputs": [
        {
          "name": "stdout",
          "output_type": "stream",
          "text": [
            "[0, '5+', '>40', 1]\n",
            "[1, '5+', '>40', 0]\n",
            "[0, '5+', '<=40', 0]\n",
            "[0, '0-4', '<=40', 1]\n",
            "[0, '5+', '<=40', 1]\n",
            "[1, '5+', '>40', 0]\n",
            "[0, '5+', '<=40', 1]\n",
            "[0, '0-4', '>40', 1]\n",
            "[1, '0-4', '>40', 0]\n",
            "[1, '0-4', '>40', 0]\n",
            "[0, '0-4', '>40', 0]\n",
            "[0, '5+', '>40', 1]\n",
            "[0, '5+', '>40', 1]\n",
            "[0, '5+', '>40', 1]\n",
            "[1, '0-4', '>40', 0]\n",
            "[0, '0-4', '>40', 0]\n",
            "[1, '0-4', '>40', 0]\n",
            "[0, '5+', '>40', 1]\n",
            "[1, '5+', '>40', 0]\n",
            "[0, '5+', '>40', 1]\n",
            "[1, '0-4', '>40', 0]\n",
            "[0, '0-4', '>40', 0]\n",
            "[0, '0-4', '>40', 1]\n",
            "[0, '0-4', '>40', 0]\n",
            "[0, '5+', '>40', 1]\n",
            "[0, '5+', '>40', 1]\n",
            "[1, '5+', '>40', 1]\n",
            "[0, '5+', '>40', 0]\n",
            "[1, '5+', '<=40', 1]\n",
            "[1, '0-4', '<=40', 0]\n",
            "[1, '0-4', '<=40', 0]\n",
            "[0, '0-4', '>40', 0]\n",
            "[1, '0-4', '<=40', 1]\n",
            "[1, '5+', '<=40', 0]\n",
            "[0, '0-4', '<=40', 1]\n",
            "[1, '0-4', '<=40', 0]\n",
            "[1, '0-4', '>40', 0]\n",
            "[1, '0-4', '>40', 0]\n",
            "[0, '0-4', '>40', 0]\n",
            "[0, '5+', '<=40', 1]\n",
            "[0, '5+', '<=40', 0]\n",
            "[0, '5+', '>40', 1]\n",
            "[0, '5+', '>40', 1]\n",
            "[0, '5+', '<=40', 0]\n",
            "[1, '0-4', '>40', 0]\n",
            "[1, '0-4', '>40', 0]\n",
            "[1, '0-4', '>40', 1]\n",
            "[1, '5+', '<=40', 0]\n",
            "[1, '5+', '>40', 0]\n",
            "[0, '5+', '<=40', 0]\n"
          ]
        }
      ],
      "source": [
        "# let us first create buckets of data\n",
        "\n",
        "# Binning definitions\n",
        "bins_smoking = [0, 5, 100]\n",
        "bins_age = [0, 41, 100]\n",
        "labels_smoking = ['0-4', '5+']\n",
        "labels_age = ['<=40', '>40']\n",
        "\n",
        "# Function to assign bins based on defined ranges\n",
        "def assign_bin_to_smoking(smoke):\n",
        "    for i in range(len(bins_smoking) - 1):\n",
        "        if bins_smoking[i] <= smoke < bins_smoking[i+1]:\n",
        "            return labels_smoking[i]\n",
        "    return 'Out of Range'\n",
        "\n",
        "def assign_bin_to_age(age):\n",
        "    for i in range(len(bins_age) - 1):\n",
        "        if bins_age[i] <= age < bins_age[i+1]:\n",
        "            return labels_age[i]\n",
        "    return 'Out of Range'\n",
        "\n",
        "# Apply binning to the 'cancer_data_list'\n",
        "for entry in cancer_data_list:  # Skip header row\n",
        "    entry[1] = assign_bin_to_smoking(entry[1])  # Assign smoking bins\n",
        "    entry[2] = assign_bin_to_age(entry[2])  # Assign age bins\n",
        "\n",
        "# Print the updated 'cancer_data_list' after binning\n",
        "for entry in cancer_data_list:\n",
        "    print(entry)\n"
      ]
    },
    {
      "cell_type": "markdown",
      "metadata": {
        "id": "4-HS0Mo7eGaU"
      },
      "source": [
        "You can see from the above two cells, that we have data on 50 patients, and the attributes of the first patient is that they are 41, they follow a non-vegetarian diet and have been smoking for 12 years. They have also developed some form of cancer."
      ]
    },
    {
      "cell_type": "markdown",
      "metadata": {
        "id": "1jsVDsRheJd7"
      },
      "source": [
        "**Question 2a (2 marks)**\n",
        "\n",
        "To make our RiskBot more dynamic, your first task is to write code that analyzes the list cancer_data_list and then tries to work out what the question marks in the following table by replacing them with either LOW, MEDIUM or HIGH.\n",
        "\n",
        "\n",
        "   | Vegetarian   |  Years smoking   |   Age     |     Risk|\n",
        "   |:-----------------------------------:|:---------------------------:|:-------------------:|:-------:|\n",
        "   |        Yes        |            0 - 4     |    <=  40   |     ?  |\n",
        "   |        Yes        |            0 - 4     |    > 40     |     ?  |\n",
        "   |        Yes        |       5+          |    <=  40     |     ? |\n",
        "   |        Yes        |        5+          |    > 40     |     ? |\n",
        "|               No        |            0 - 4     |    <=  40   |   ?  |\n",
        "|                 No        |            0 - 4               |    > 40    |     ?  |  \n",
        "|                 No        |        5+          |    <=  40     |    ?|\n",
        "|                 No        |        5+          |    > 40     |     ? |\n",
        "                 \n",
        "In other words your code should analyse the list to determine whether based on the historical data in the list on the attributes of those who did and didn't develop cancer, if for example someone who is vegetarian, has been smoking for 0-4 years, and is less than or equal to 40 years of age should be classed as low, medium or high risk in terms of developing cancer (this the first row in the above decision table).\n",
        "\n",
        "So before writing any code you need to reflect on what is the best way to determine the question marks in the above table based on the data. There are many ways of doing so, some extremely theortical some more practical and common sense, and I hope you will come up with a reasonable approach. Whatever approach you come up with it needs to be data-driven and based on the data in the list to get any marks.\n",
        "\n",
        "\n",
        "Once you get around to writing code, you can't make any assumptions on the number of patients in the list, so you can't hardcode the number 50, because in the future we might get more patient data. Once I run your code it should output something like the above table (you can choose which format exactly) but with the question marks filled. For example the first two lines of your output could look like this\n",
        "\n",
        "\n",
        "\n",
        "*Vegetarian: Yes, Years Smoking: 0-4, Age: <=40 then risk is LOW*\n",
        "\n",
        "*Vegetarian: Yes, Years Smoking: 0-4, Age: >40 then risk is MEDIUM*\n",
        "\n",
        "One assumption you have to make in this question is that you need to define what is considered LOW, MEDIUM and HIGH risk and then apply it to the data.\n",
        "\n",
        "By implementing this task, we can then (in principle) use the code you implemented in previous questions to create a chatbot based on the above table. This means we have an 'end-to-end' solution that goes from raw patient data to a decision tree to a chatbot. However, we won't do this here, for this task you are only asked to generate the risk table above."
      ]
    },
    {
      "cell_type": "markdown",
      "metadata": {},
      "source": [
        "## counting the number of positive and negative cases related to each group"
      ]
    },
    {
      "cell_type": "code",
      "execution_count": 58,
      "metadata": {},
      "outputs": [
        {
          "name": "stdout",
          "output_type": "stream",
          "text": [
            "Group: (0, '5+', '>40') - Counts (Ones, Zeros): 10, 1\n",
            "Group: (1, '5+', '>40') - Counts (Ones, Zeros): 1, 4\n",
            "Group: (0, '5+', '<=40') - Counts (Ones, Zeros): 3, 4\n",
            "Group: (0, '0-4', '<=40') - Counts (Ones, Zeros): 2, 0\n",
            "Group: (0, '0-4', '>40') - Counts (Ones, Zeros): 2, 6\n",
            "Group: (1, '0-4', '>40') - Counts (Ones, Zeros): 1, 9\n",
            "Group: (1, '5+', '<=40') - Counts (Ones, Zeros): 1, 2\n",
            "Group: (1, '0-4', '<=40') - Counts (Ones, Zeros): 1, 3\n"
          ]
        }
      ],
      "source": [
        "# Note: this code is same as to next cell code but aggregation function is changed\n",
        "# Custom aggregation function to count the number of positive and negative cases of cancer\n",
        "def count_ones_zeros(data):\n",
        "    count_ones = sum(1 for row in data if row[-1] == 1)\n",
        "    count_zeros = sum(1 for row in data if row[-1] == 0)\n",
        "    return f\"{count_ones}, {count_zeros}\"\n",
        "\n",
        "# Grouping based on 'vegetarian', 'years smoked', and 'age'\n",
        "grouped_data = {}\n",
        "for row in cancer_data_list:\n",
        "    key = tuple(row[:-1])  # Exclude the 'cancer' column to create the grouping key\n",
        "    if key not in grouped_data:\n",
        "        grouped_data[key] = []\n",
        "    grouped_data[key].append(row)\n",
        "\n",
        "# Applying custom aggregation\n",
        "result = {}\n",
        "for key, data in grouped_data.items():\n",
        "    result[key] = count_ones_zeros(data)\n",
        "\n",
        "# Displaying the result\n",
        "for key, value in result.items():\n",
        "    print(f\"Group: {key} - Counts (Ones, Zeros): {value}\")\n"
      ]
    },
    {
      "cell_type": "markdown",
      "metadata": {},
      "source": [
        "## assigning low, medium, high value of cancer based on positive cases"
      ]
    },
    {
      "cell_type": "code",
      "execution_count": 56,
      "metadata": {},
      "outputs": [
        {
          "name": "stdout",
          "output_type": "stream",
          "text": [
            "Group: (0, '5+', '>40') - Cancer: high\n",
            "Group: (1, '5+', '>40') - Cancer: low\n",
            "Group: (0, '5+', '<=40') - Cancer: medium\n",
            "Group: (0, '0-4', '<=40') - Cancer: medium\n",
            "Group: (0, '0-4', '>40') - Cancer: medium\n",
            "Group: (1, '0-4', '>40') - Cancer: low\n",
            "Group: (1, '5+', '<=40') - Cancer: low\n",
            "Group: (1, '0-4', '<=40') - Cancer: low\n"
          ]
        }
      ],
      "source": [
        "# creating buckets and bins and assingning values to cancer high, medium or low\n",
        "def custom_aggregate(data):\n",
        "    count_ones = sum(1 for row in data if row[-1] == 1)  # Counting the number of ones\n",
        "    # Creating bins based on the count of ones\n",
        "    if count_ones <= 1:\n",
        "        bin_label = 'low'\n",
        "    elif count_ones <= 3:\n",
        "        bin_label = 'medium'\n",
        "    else:\n",
        "        bin_label = 'high'\n",
        "    return bin_label\n",
        "\n",
        "# grouping function\n",
        "grouped_data = {}\n",
        "for row in cancer_data_list:\n",
        "    key = (row[0], row[1], row[2])  # Use the first three columns as the grouping key\n",
        "    if key not in grouped_data:\n",
        "        grouped_data[key] = []\n",
        "    grouped_data[key].append(row)\n",
        "\n",
        "# Applying custom aggregation\n",
        "result = {}\n",
        "for key, data in grouped_data.items():\n",
        "    result[key] = custom_aggregate(data)\n",
        "\n",
        "# Display the result\n",
        "for key, value in result.items():\n",
        "    print(f\"Group: {key} - Cancer: {value}\")\n"
      ]
    },
    {
      "cell_type": "markdown",
      "metadata": {},
      "source": [
        "here are the results filled in the place of question marks (by analysing the above cell's output)\n",
        "\n",
        "\n",
        "   | Vegetarian   |  Years smoking   |   Age     |     Risk|\n",
        "   |:-----------------------------------:|:---------------------------:|:-------------------:|:-------:|\n",
        "   |        Yes        |            0 - 4     |    <=  40   |     low  |\n",
        "   |        Yes        |            0 - 4     |    > 40     |     low  |\n",
        "   |        Yes        |       5+          |    <=  40     |     low |\n",
        "   |        Yes        |        5+          |    > 40     |     low |\n",
        "|               No        |            0 - 4     |    <=  40   |   medium  |\n",
        "|                 No        |            0 - 4               |    > 40    |     medium  |  \n",
        "|                 No        |        5+          |    <=  40     |    medium |\n",
        "|                 No        |        5+          |    > 40     |     High |\n",
        "                 "
      ]
    },
    {
      "cell_type": "markdown",
      "metadata": {
        "id": "Deu8-7R_eQuA"
      },
      "source": [
        "**Question 2 (the sequel) background**\n",
        "\n",
        "One limitation in the above question is that the smoking years were bucketed into two buckets: 0-4 and 5+, and this was hardcoded. The same thing for age. This again reduces the flexibility of our model and is not data-driven.\n",
        "\n",
        "Therefore in this question you are asked to implement a prototype that comes up with its own optimal bucketing of age and years smoking based on the data. You can reuse code you wrote to the previous question.\n",
        "\n",
        "This is a challenging question from an analytic perspective (not just a programming one) since you need to think about what makes an optimal bucketing (in fact there are multiple ways of doing this theortically).\n",
        "\n",
        "Therefore for the output of this question you need to generate something similar to the output of the previous question, but where years smoking is bucketed as 0-N and N+ and where your code need to compute an optimal N based on the data in the list. And similarly age is bucketed as Age <= M and >M where your code also need to compute an optimal M based on the data in the list."
      ]
    },
    {
      "cell_type": "markdown",
      "metadata": {
        "id": "sHGnMK0mFsp2"
      },
      "source": [
        "**Question 2b (2 marks)**\n",
        "\n",
        "In words (no more than 3 paragraphs) and in the following text cell (rather than a code one) explain your methodology for solving this question. I am less interested in the coding details here than in the analytical reasoning behind your implementation. Highlight some of the limitations of this approach."
      ]
    },
    {
      "cell_type": "markdown",
      "metadata": {},
      "source": [
        "**Answer (Question 2b)**"
      ]
    },
    {
      "cell_type": "markdown",
      "metadata": {
        "id": "RltZV4pNPxFr"
      },
      "source": [
        "Creating optimal buckets/bins involves a balance between granularity and meaningful divisions within the data. For the 'age' and 'years smoked' columns in the 'cancer_data_list', we have considered more balanced and meaningful binning based on common health-related milestones:\n",
        "\n",
        "`Age binning:`\n",
        "\n",
        "- Bin 1 ('<=40'): This bin represents individuals generally considered younger, often associated with different lifestyle choices, metabolism rates, and health concerns.\n",
        "- Bin 2 ('>40'): This bin covers individuals over 40, where health risks like cancer tend to increase due to factors such as accumulated exposure to environmental toxins, changes in cell regeneration, and lifestyle choices.\n",
        "\n",
        "`Years Smoked binning:`\n",
        "\n",
        "- Bin 1 ('0'): Represents individuals who have not smoked or smoked for a very short duration.\n",
        "- Bin 2 ('>0'): Includes individuals who have smoked for any duration longer than none or a very brief period.\n",
        "\n",
        "`Reasons for these Bins`\n",
        "\n",
        "**Age Binning:** The division at 40 is often seen as a significant turning point in health concerns due to changes in metabolism, cellular repair, and cumulative exposure to lifestyle factors, making it a reasonable cutoff.\n",
        "\n",
        "**Years Smoked Binning:** Distinguishing between individuals who have never smoked or smoked briefly versus those who have any smoking history helps capture the impact of smoking on cancer risk"
      ]
    },
    {
      "cell_type": "markdown",
      "metadata": {
        "id": "-nBxb_e4F5Cg"
      },
      "source": [
        "**Question 2c (1 marks)**\n",
        "\n",
        "Implement solution to this question in python that performs what you explained in your methodology."
      ]
    },
    {
      "cell_type": "markdown",
      "metadata": {},
      "source": [
        "## binning/bucketing based on the above optimal conditions"
      ]
    },
    {
      "cell_type": "code",
      "execution_count": 65,
      "metadata": {},
      "outputs": [],
      "source": [
        "cancer_data_list = [\n",
        " [0, 12, 41, 1],\n",
        " [1, 20, 44, 0],\n",
        " [0, 8, 30, 0],\n",
        " [0, 0, 25, 1],\n",
        " [0, 15, 36, 1],\n",
        " [1, 17, 42, 0],\n",
        " [0, 22, 40, 1],\n",
        " [0, 0, 61, 1],\n",
        " [1, 2, 64, 0],\n",
        " [1, 0, 60, 0],\n",
        " [0, 0, 78, 0],\n",
        " [0, 28, 60, 1],\n",
        " [0, 41, 72, 1],\n",
        " [0, 43, 62, 1],\n",
        " [1, 4, 72, 0],\n",
        " [0, 0, 81, 0],\n",
        " [1, 0, 59, 0],\n",
        " [0, 26, 55, 1],\n",
        " [1, 33, 59, 0],\n",
        " [0, 30, 48, 1],\n",
        " [1, 0, 56, 0],\n",
        " [0, 0, 61, 0],\n",
        " [0, 0, 64, 1],\n",
        " [0, 0, 73, 0],\n",
        " [0, 28, 64, 1],\n",
        " [0, 41, 61, 1],\n",
        " [1, 26, 46, 1],\n",
        " [0, 41, 62, 0],\n",
        " [1, 15, 38, 1],\n",
        " [1, 0, 25, 0],\n",
        " [1, 0, 28, 0],\n",
        " [0, 0, 82, 0],\n",
        " [1, 3, 24, 1],\n",
        " [1, 8, 29, 0],\n",
        " [0, 4, 22, 1],\n",
        " [1, 0, 17, 0],\n",
        " [1, 0, 75, 0],\n",
        " [1, 0, 71, 0],\n",
        " [0, 0, 72, 0],\n",
        " [0, 11, 38, 1],\n",
        " [0, 8, 32, 0],\n",
        " [0, 28, 54, 1],\n",
        " [0, 37, 65, 1],\n",
        " [0, 11, 30, 0],\n",
        " [1, 0, 87, 0],\n",
        " [1, 0, 82, 0],\n",
        " [1, 0, 49, 1],\n",
        " [1, 14, 40, 0],\n",
        " [1, 20, 50, 0],\n",
        " [0, 5, 25, 0]\n",
        " ]"
      ]
    },
    {
      "cell_type": "code",
      "execution_count": 66,
      "metadata": {},
      "outputs": [
        {
          "name": "stdout",
          "output_type": "stream",
          "text": [
            "[0, 'smoker', '>40', 1]\n",
            "[1, 'smoker', '>40', 0]\n",
            "[0, 'smoker', '<=40', 0]\n",
            "[0, 'not smoker', '<=40', 1]\n",
            "[0, 'smoker', '<=40', 1]\n",
            "[1, 'smoker', '>40', 0]\n",
            "[0, 'smoker', '<=40', 1]\n",
            "[0, 'not smoker', '>40', 1]\n",
            "[1, 'smoker', '>40', 0]\n",
            "[1, 'not smoker', '>40', 0]\n",
            "[0, 'not smoker', '>40', 0]\n",
            "[0, 'smoker', '>40', 1]\n",
            "[0, 'smoker', '>40', 1]\n",
            "[0, 'smoker', '>40', 1]\n",
            "[1, 'smoker', '>40', 0]\n",
            "[0, 'not smoker', '>40', 0]\n",
            "[1, 'not smoker', '>40', 0]\n",
            "[0, 'smoker', '>40', 1]\n",
            "[1, 'smoker', '>40', 0]\n",
            "[0, 'smoker', '>40', 1]\n",
            "[1, 'not smoker', '>40', 0]\n",
            "[0, 'not smoker', '>40', 0]\n",
            "[0, 'not smoker', '>40', 1]\n",
            "[0, 'not smoker', '>40', 0]\n",
            "[0, 'smoker', '>40', 1]\n",
            "[0, 'smoker', '>40', 1]\n",
            "[1, 'smoker', '>40', 1]\n",
            "[0, 'smoker', '>40', 0]\n",
            "[1, 'smoker', '<=40', 1]\n",
            "[1, 'not smoker', '<=40', 0]\n",
            "[1, 'not smoker', '<=40', 0]\n",
            "[0, 'not smoker', '>40', 0]\n",
            "[1, 'smoker', '<=40', 1]\n",
            "[1, 'smoker', '<=40', 0]\n",
            "[0, 'smoker', '<=40', 1]\n",
            "[1, 'not smoker', '<=40', 0]\n",
            "[1, 'not smoker', '>40', 0]\n",
            "[1, 'not smoker', '>40', 0]\n",
            "[0, 'not smoker', '>40', 0]\n",
            "[0, 'smoker', '<=40', 1]\n",
            "[0, 'smoker', '<=40', 0]\n",
            "[0, 'smoker', '>40', 1]\n",
            "[0, 'smoker', '>40', 1]\n",
            "[0, 'smoker', '<=40', 0]\n",
            "[1, 'not smoker', '>40', 0]\n",
            "[1, 'not smoker', '>40', 0]\n",
            "[1, 'not smoker', '>40', 1]\n",
            "[1, 'smoker', '<=40', 0]\n",
            "[1, 'smoker', '>40', 0]\n",
            "[0, 'smoker', '<=40', 0]\n"
          ]
        }
      ],
      "source": [
        "# Function to assign bins based on new conditions\n",
        "def assign_bin_to_smoking(smoke):\n",
        "    if smoke == 0:\n",
        "        return 'not smoker'\n",
        "    else:\n",
        "        return 'smoker'\n",
        "\n",
        "def assign_bin_to_age(age):\n",
        "    if age <= 40:\n",
        "        return '<=40'\n",
        "    else:\n",
        "        return '>40'\n",
        "\n",
        "# Apply new binning to the 'cancer_data_list'\n",
        "for entry in cancer_data_list:\n",
        "    entry[1] = assign_bin_to_smoking(entry[1])  # Assign smoking bins\n",
        "    entry[2] = assign_bin_to_age(entry[2])  # Assign age bins\n",
        "\n",
        "# Print the updated 'cancer_data_list' after binning\n",
        "for entry in cancer_data_list:\n",
        "    print(entry)"
      ]
    },
    {
      "cell_type": "markdown",
      "metadata": {
        "id": "s0lsSPrIv8Ad"
      },
      "source": [
        "**Question 3 (3 marks)**\n",
        "\n",
        "Assume a version of the cancerRisk chatbot in Q1a) is implemented with one extra feature that allows a user to answer PRIVATE for a given response if they don't want to share their data on that question.\n",
        "\n",
        "So for every question a user has two options, they can answer PRIVATE or give a correct well-fromatted answer to whatever the question is (so for example they answer yes/no to smoking, number to avg vegetable portions and number to age questions).\n",
        "\n",
        "Once the user answers the three questions, this bot returns a list with all the possible risk categories that the user may be in.\n",
        "\n",
        "For example if the user answered ['0', 'No', 'PRIVATE'] the bot will respond with a list with one item ['MEDIUM'] as that is the only possiblity. But if the user answered ['PRIVATE', 'YES', 'PRIVATE'] the bot will respond with ['MEDIUM', 'HIGH']. Here the entries correspond to vegetables, smoking, age.\n",
        "\n",
        "Imagine a programmer implemented a function called get_risk that takes a list with three arguments as input representing the user's three answers for this bot and returns the risk category according to the table in Q1a):\n",
        "\n",
        "\n"
      ]
    },
    {
      "cell_type": "code",
      "execution_count": 92,
      "metadata": {},
      "outputs": [
        {
          "name": "stdout",
          "output_type": "stream",
          "text": [
            "Welcome to the Medical Chatbot!\n",
            "['LOW']\n",
            "Welcome to the Medical Chatbot!\n",
            "['HIGH']\n",
            "Welcome to the Medical Chatbot!\n",
            "['HIGH', 'MEDIUM']\n"
          ]
        }
      ],
      "source": [
        "def get_possible_risks(user_responses):\n",
        "    data_table = [\n",
        "        ('LOW', ['>=2', 'No', '<=40']),\n",
        "        ('LOW', ['>=2', 'No', '>40']),\n",
        "        ('MEDIUM', ['>=2', 'Yes', '<=40']),\n",
        "        ('HIGH', ['>=2', 'Yes', '>40']),\n",
        "        ('MEDIUM', ['<=1', 'No', '<=40']),\n",
        "        ('MEDIUM', ['<=1', 'No', '>40']),\n",
        "        ('HIGH', ['<=1', 'Yes', '<=40']),\n",
        "        ('HIGH', ['<=1', 'Yes', '>40']),\n",
        "    ]\n",
        "\n",
        "    possible_risks = []\n",
        "\n",
        "    for risk, conditions in data_table:\n",
        "        possible = True\n",
        "        for i, response in enumerate(user_responses):\n",
        "            if response != 'PRIVATE' and response != conditions[i]:\n",
        "                possible = False\n",
        "                break\n",
        "        if possible:\n",
        "            possible_risks.append(risk)\n",
        "\n",
        "    return list(set(possible_risks))\n",
        "\n",
        "def medical_chatbot(responses):\n",
        "    print(\"Welcome to the Medical Chatbot!\")\n",
        "        \n",
        "    # responses = ['>=2', \"Yes\", \">40\"]\n",
        "\n",
        "    if responses.count('Private') == 3:\n",
        "        print(\"Please provide at least one valid input.\")\n",
        "        return\n",
        "\n",
        "    possible_risks = get_possible_risks(responses)\n",
        "\n",
        "    if possible_risks:\n",
        "        return possible_risks\n",
        "    else:\n",
        "        return \"No matching risk category found for the provided inputs.\"\n",
        "\n",
        "# call the chatbot with responses in list format\n",
        "print(medical_chatbot(['>=2', \"No\", \">40\"]))\n",
        "print(medical_chatbot(['PRIVATE', \"Yes\", \">40\"]))\n",
        "print(medical_chatbot(['PRIVATE', \"Yes\", \"PRIVATE\"])\n",
        ")"
      ]
    },
    {
      "cell_type": "code",
      "execution_count": null,
      "metadata": {
        "id": "wSJ1_-ytDzhS"
      },
      "outputs": [],
      "source": [
        "# def get_risk(user_answers):\n",
        "#   risk = ['LOW']   # at the beginning the function sets the risk to a default LOW\n",
        "#   # ....\n",
        "#   # programmer implements the rest of the function here which modifies risk\n",
        "#   # .....\n",
        "#   return risk"
      ]
    },
    {
      "cell_type": "markdown",
      "metadata": {
        "id": "t5UYY5htFuXl"
      },
      "source": [
        "Now your job as a tester is write testing code to verify the programmer's work.\n",
        "\n",
        "The scaffold of unittest with one example unit test is presented below, with an example on how to run it (of course in this case it will fail all tests as nothing has been implemented in the body of the get_risk function).\n",
        "\n",
        "Your task for this question is to implement the rest of unit tests that provide sufficient testing of the function as specified above."
      ]
    },
    {
      "cell_type": "code",
      "execution_count": 97,
      "metadata": {
        "id": "FtiDj-PjEyW8"
      },
      "outputs": [
        {
          "name": "stderr",
          "output_type": "stream",
          "text": [
            "test_mixed_answers (__main__.TestGetRisk.test_mixed_answers) ... ok\n",
            "test_typical_answers (__main__.TestGetRisk.test_typical_answers) ... ok\n",
            "\n",
            "----------------------------------------------------------------------\n",
            "Ran 2 tests in 0.006s\n",
            "\n",
            "OK\n"
          ]
        },
        {
          "name": "stdout",
          "output_type": "stream",
          "text": [
            "Welcome to the Medical Chatbot!\n",
            "Welcome to the Medical Chatbot!\n"
          ]
        },
        {
          "data": {
            "text/plain": [
              "<unittest.main.TestProgram at 0x218e3dfac50>"
            ]
          },
          "execution_count": 97,
          "metadata": {},
          "output_type": "execute_result"
        }
      ],
      "source": [
        "import unittest\n",
        "class TestGetRisk(unittest.TestCase):\n",
        "  def test_typical_answers(self):\n",
        "      given_input = ['>=2', \"No\", \">40\"]\n",
        "      expected_output = ['LOW']\n",
        "      actual_output = medical_chatbot(given_input)\n",
        "      self.assertEqual(expected_output, actual_output)\n",
        "\n",
        "  def test_mixed_answers(self):\n",
        "      given_input = ['PRIVATE', \"Yes\", \"PRIVATE\"]\n",
        "      expected_output = ['HIGH', 'MEDIUM']\n",
        "      actual_output = medical_chatbot(given_input)\n",
        "      self.assertEqual(expected_output, actual_output)\n",
        "      \n",
        "unittest.main(argv=[''], verbosity=2, exit=False)\n"
      ]
    },
    {
      "cell_type": "markdown",
      "metadata": {
        "id": "bUYausrq1f56"
      },
      "source": [
        "**Question 4**\n",
        "\n",
        "One of the promises AI is that it helps boost productivity of programmers. In this quetion we will explore the viability of this promise by challenging you to use AI to write a sophisticated piece of code even though you have very little background and experience in programming. However, rather than marking you on outcome (that is in delivering your project) you will be marked on how will you utilise the capabilities of the AI and in particular on how will you provide a wholistic summary of the AI's capabilities, limitation and how it can be harnessed by new programmers."
      ]
    },
    {
      "cell_type": "markdown",
      "metadata": {
        "id": "x6cg80Jx2ol_"
      },
      "source": [
        "**Question 4a) (1 marks)**\n",
        "\n",
        "In no more than 100 words explain an application that you would like to implement related the medical industry (broadly defined including health insurance, public health, medical technology and training). You will be marked on how novel, impactful and sophisticated your application is."
      ]
    },
    {
      "cell_type": "markdown",
      "metadata": {},
      "source": [
        "**Answer**\n",
        "\n",
        "Application title: `skin disease detector with medications`\n",
        "\n",
        "To create a skin disease detector app, follow these steps:\n",
        "\n",
        "- `Data Collection:` Gather a diverse dataset of skin images labeled with diseases.\n",
        "- `Model Development:` Use machine learning (CNNs) to train a model on this dataset for disease classification.\n",
        "- `Feature Integration:` Integrate symptom input for more accurate predictions.\n",
        "- `Precautions & Medications: `Curate a database linking diseases to suggested precautions and medications.\n",
        "- `App Development:` Build an intuitive app interface allowing image upload, symptom input, and displaying predictions along with necessary precautions and medications.\n",
        "- `Testing & Validation:` Validate the model's accuracy and usability extensively.\n",
        "- `Launch & Maintenance:` Deploy the app, gather feedback, and continuously improve through updates. Consider ethical implications and data privacy throughout.\n",
        "\n",
        "Launching involves app development, model training, and user-friendly design. You may also need medical consultations for accuracy and compliance."
      ]
    },
    {
      "cell_type": "markdown",
      "metadata": {
        "id": "kHgEfcE63OtC"
      },
      "source": [
        "For the rest of the question you are advised to spend no more than 1.5 - 2 hours using chatgpt to implement or prototype (or probably more likely: make some progress on even a small feature of your application). Please don't delete or polish your conversation with the AI, chances are the AI will be frustrating and limited in its ability for this purpose and you will get into some dead-ends, however the idea of this question is for you to gain enough experience in using AI to provide a critical assessment of its potential as a productivity booster for new programmers. In other words you can still score a high mark on this question without having been able to make any progress on your original application if you have a compelling session with the AI and write a good executive summary about it."
      ]
    },
    {
      "cell_type": "markdown",
      "metadata": {},
      "source": [
        "**Executive Summary: Skin Disease Detector Application**\n",
        "\n",
        "`Introduction:` The Skin Disease Detector leverages machine learning for accurate skin condition identification, aiming to enhance early diagnosis and accessibility to dermatological guidance.\n",
        "\n",
        "`Objectives:` Develop a robust model for precise disease prediction, offer tailored precautions and medications, and create a user-friendly interface.\n",
        "\n",
        "`Real-life Applications:` Facilitates remote healthcare, promotes early disease detection, educates users, aids research, and supports personal health management."
      ]
    },
    {
      "cell_type": "markdown",
      "metadata": {
        "id": "mDOKoOZS4GZ3"
      },
      "source": [
        "**Question 4b) (9 marks)**\n",
        "\n",
        "Based on your experience of using the AI provide an executive summary (no more than 600 words) which presents a critical assessment on the benefits and limitations of using AI to help boost the productivity of programmers who have little or no programming experience based on your own experience (so please don't cite any outside research).\n",
        "\n",
        "Please write the summary in a formal academic tone using standard terminology where appropriate and make it specific it to your experience. So don't provide literature review, references or significant code in your report. The last cell will ask you to insert a link to the full chat session you had with the AI, please see how to share it from ChatGPT (it is usually a button on the top right but you might see something slightly different)\n",
        "\n",
        "Marks will be allocated on the following three aspects in your report:\n",
        "\n",
        "*  Your overall approach in using ChatGPT.\n",
        "\n",
        "* The obstacles and limitations you encountered in using the AI and potential mitigations.\n",
        "\n",
        "* The benefits of using the AI."
      ]
    },
    {
      "cell_type": "markdown",
      "metadata": {
        "id": "n1UaIRNrIrIK"
      },
      "source": [
        "AI has emerged as a transformative tool for individuals with little or no programming experience, aiming to enhance their productivity in coding tasks. As exemplified through interactions with me, an AI language model, several benefits and limitations have surfaced, shedding light on the potential and challenges of employing AI to aid inexperienced programmers.\n",
        "\n",
        "**Benefits**\n",
        "\n",
        "`Accessibility and Assistance:` AI provides accessible support by simplifying complex coding concepts, offering explanations in layman's terms, and providing guidance through step-by-step instructions. It aids in breaking down barriers for novices, making programming more approachable.\n",
        "\n",
        "`Time Efficiency:` For those new to programming, AI significantly reduces the time required to troubleshoot errors or comprehend coding syntax. Quick access to relevant information and instant feedback accelerates the learning curve.\n",
        "\n",
        "`Enhanced Learning Experience:` AI-driven platforms offer interactive learning experiences tailored to individual needs, utilizing adaptive learning algorithms to adjust content and pacing according to the learner's progress.\n",
        "\n",
        "`Augmented Problem-solving:` AI assists in problem-solving by suggesting optimized solutions, debugging code, and offering alternative approaches. This fosters a deeper understanding of programming logic and techniques.\n",
        "\n",
        "**Limitations**\n",
        "\n",
        "`Overreliance on AI:` Dependence on AI tools might hinder the development of critical thinking and problem-solving skills among beginners. Relying solely on AI suggestions might prevent them from grasping foundational concepts.\n",
        "\n",
        "`Scope and Accuracy`: While AI excels in providing general guidance, its suggestions might lack specificity or precision in addressing unique or complex programming challenges. Inaccurate advice could lead to misconceptions or flawed implementations.\n",
        "\n",
        "`Lack of Creativity and Innovation:` AI's suggestions might confine programmers to conventional approaches, limiting their exploration of creative or innovative solutions. It might restrict the development of original thinking and unique problem-solving techniques.\n",
        "\n",
        "`Ethical Concerns and Bias:` AI algorithms might propagate biases present in their training data, potentially reinforcing stereotypes or perpetuating discriminatory outcomes in code recommendations or language usage.\n",
        "\n",
        "**Conclusion:**\n",
        "\n",
        "- Utilizing AI to support inexperienced programmers offers undeniable advantages in accessibility, time efficiency, and learning enhancement. However, it's crucial to balance this with a cautious approach to prevent overreliance and the potential erosion of critical thinking skills.\n",
        "- And AI is not able to provide the solution of complex and long statement problems.\n",
        "- Incorporating AI as a complementary tool for guidance while emphasizing the importance of foundational understanding and independent problem-solving skills is key.\n",
        "\n",
        "- Moving forward, the optimization of AI tools should prioritize accuracy, inclusivity, and fostering creativity. Addressing biases, encouraging exploration beyond conventional solutions, and promoting a holistic learning experience can maximize the potential of AI in empowering novice programmers without compromising their long-term growth and proficiency in coding."
      ]
    },
    {
      "cell_type": "markdown",
      "metadata": {
        "id": "DvGnb9kMIuyg"
      },
      "source": [
        "https://chat.openai.com/share/0e9b47f8-71e1-4df8-930b-dc7eeee2aabb"
      ]
    }
  ],
  "metadata": {
    "colab": {
      "provenance": []
    },
    "kernelspec": {
      "display_name": "Python 3",
      "language": "python",
      "name": "python3"
    },
    "language_info": {
      "codemirror_mode": {
        "name": "ipython",
        "version": 3
      },
      "file_extension": ".py",
      "mimetype": "text/x-python",
      "name": "python",
      "nbconvert_exporter": "python",
      "pygments_lexer": "ipython3",
      "version": "3.11.6"
    }
  },
  "nbformat": 4,
  "nbformat_minor": 0
}
